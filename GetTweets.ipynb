{
  "nbformat": 4,
  "nbformat_minor": 0,
  "metadata": {
    "colab": {
      "name": "GetTweets.ipynb",
      "provenance": [],
      "collapsed_sections": []
    },
    "kernelspec": {
      "name": "python3",
      "display_name": "Python 3"
    }
  },
  "cells": [
    {
      "cell_type": "markdown",
      "metadata": {
        "id": "ik3OxyTsEUep",
        "colab_type": "text"
      },
      "source": [
        "<h1>AI in Fact and Fiction - Summer 2020</h1>\n",
        "<h2>Public Emotions - Creating Training Dataset</h2>\n",
        "\n",
        "<!-- <p><a href=\"\">Run this notebook on collab.</a></p> -->\n",
        "\n",
        "<hr>"
      ]
    },
    {
      "cell_type": "markdown",
      "metadata": {
        "id": "-jzenjZpuQ4j",
        "colab_type": "text"
      },
      "source": [
        "<h3>Preparation</h3>\n",
        "\n",
        "Import the following libraries that you will use for this code:"
      ]
    },
    {
      "cell_type": "code",
      "metadata": {
        "id": "ZfrzgPfF_Pic",
        "colab_type": "code",
        "colab": {}
      },
      "source": [
        "import pandas as pd\n",
        "import numpy as np\n",
        "import re\n",
        "import json\n",
        "import csv\n",
        "import calendar"
      ],
      "execution_count": null,
      "outputs": []
    },
    {
      "cell_type": "markdown",
      "metadata": {
        "id": "hXfreu87ugGP",
        "colab_type": "text"
      },
      "source": [
        "Upload the jsonl file and csv file needed for Tweet conversion."
      ]
    },
    {
      "cell_type": "code",
      "metadata": {
        "id": "xYC5Q-hA_jGO",
        "colab_type": "code",
        "colab": {
          "resources": {
            "http://localhost:8080/nbextensions/google.colab/files.js": {
              "data": "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",
              "ok": true,
              "headers": [
                [
                  "content-type",
                  "application/javascript"
                ]
              ],
              "status": 200,
              "status_text": "OK"
            }
          },
          "base_uri": "https://localhost:8080/",
          "height": 75
        },
        "outputId": "90175c42-fd1a-448b-d06c-0c62deca1186"
      },
      "source": [
        "from google.colab import files\n",
        "uploaded = files.upload()"
      ],
      "execution_count": null,
      "outputs": [
        {
          "output_type": "display_data",
          "data": {
            "text/html": [
              "\n",
              "     <input type=\"file\" id=\"files-400d7fe1-a99f-478c-bcc1-b932761d40b2\" name=\"files[]\" multiple disabled\n",
              "        style=\"border:none\" />\n",
              "     <output id=\"result-400d7fe1-a99f-478c-bcc1-b932761d40b2\">\n",
              "      Upload widget is only available when the cell has been executed in the\n",
              "      current browser session. Please rerun this cell to enable.\n",
              "      </output>\n",
              "      <script src=\"/nbextensions/google.colab/files.js\"></script> "
            ],
            "text/plain": [
              "<IPython.core.display.HTML object>"
            ]
          },
          "metadata": {
            "tags": []
          }
        },
        {
          "output_type": "stream",
          "text": [
            "Saving corona_tweets_95.jsonl to corona_tweets_95.jsonl\n"
          ],
          "name": "stdout"
        }
      ]
    },
    {
      "cell_type": "markdown",
      "metadata": {
        "id": "UFOFSr60utKc",
        "colab_type": "text"
      },
      "source": [
        "<h2 id=\"Reading_Data\">Reading Data from Imported Files</h2>"
      ]
    },
    {
      "cell_type": "markdown",
      "metadata": {
        "id": "NDo75sFrvPmg",
        "colab_type": "text"
      },
      "source": [
        "View data in csv file to check for delimiter and help with parsing."
      ]
    },
    {
      "cell_type": "code",
      "metadata": {
        "id": "u5QSZB5Xa_QM",
        "colab_type": "code",
        "colab": {
          "base_uri": "https://localhost:8080/",
          "height": 54
        },
        "outputId": "67294ba5-9205-4555-8ed0-03add41a64b6"
      },
      "source": [
        "with open('corona_tweets_95.csv', 'r') as csvfile:\n",
        "    readCSV = csv.reader(csvfile, delimiter=',')\n",
        "    for row in readCSV:\n",
        "        print(row)\n",
        "        print(row[0])\n",
        "\n",
        "        break #I put this here just to see if things are being read. The csv file is really big, dont want to print it all"
      ],
      "execution_count": null,
      "outputs": [
        {
          "output_type": "stream",
          "text": [
            "['1274559089041907712', '0.8']\n",
            "1274559089041907712\n"
          ],
          "name": "stdout"
        }
      ]
    },
    {
      "cell_type": "markdown",
      "metadata": {
        "id": "jaTJ_cQPvfLu",
        "colab_type": "text"
      },
      "source": [
        "Get data from jsonl file and check to see if getting the data succeeded."
      ]
    },
    {
      "cell_type": "code",
      "metadata": {
        "id": "Kx-jrMC0_ji1",
        "colab_type": "code",
        "colab": {
          "base_uri": "https://localhost:8080/",
          "height": 55
        },
        "outputId": "6f80fe32-f030-484d-a006-a9543aabb331"
      },
      "source": [
        "data = []\n",
        "\n",
        "with open('corona_tweets_95.jsonl', 'r', encoding='utf-8') as f:\n",
        "  for line in f:\n",
        "    #print(line)\n",
        "    data.append(json.loads(line))\n",
        "    \n",
        "print(data[62])"
      ],
      "execution_count": null,
      "outputs": [
        {
          "output_type": "stream",
          "text": [
            "{'created_at': 'Sun Jun 21 04:50:54 +0000 2020', 'id': 1274565433216000000, 'id_str': '1274565433216000000', 'full_text': 'RT @CalEndow: #COVID19 is killing young Black Americans at an alarmingly high rate. \\n\\nThe pandemic has laid bare the deadly results of unde…', 'truncated': False, 'display_text_range': [0, 140], 'entities': {'hashtags': [{'text': 'COVID19', 'indices': [14, 22]}], 'symbols': [], 'user_mentions': [{'screen_name': 'CalEndow', 'name': 'California Endowment', 'id': 132254256, 'id_str': '132254256', 'indices': [3, 12]}], 'urls': []}, 'source': '<a href=\"http://twitter.com/download/iphone\" rel=\"nofollow\">Twitter for iPhone</a>', 'in_reply_to_status_id': None, 'in_reply_to_status_id_str': None, 'in_reply_to_user_id': None, 'in_reply_to_user_id_str': None, 'in_reply_to_screen_name': None, 'user': {'id': 544973361, 'id_str': '544973361', 'name': 'Shweta', 'screen_name': 'OodLittleThing', 'location': 'North. ', 'description': '27. English Teacher. Somewhat writerly. DEFINITELY not a robot. Attempting to be a functioning member of society. Will it work? Tune in never.', 'url': 'https://t.co/4IC55ptXWE', 'entities': {'url': {'urls': [{'url': 'https://t.co/4IC55ptXWE', 'expanded_url': 'http://www.goodreads.com/shwetareadsthings', 'display_url': 'goodreads.com/shwetareadsthi…', 'indices': [0, 23]}]}, 'description': {'urls': []}}, 'protected': False, 'followers_count': 217, 'friends_count': 278, 'listed_count': 0, 'created_at': 'Wed Apr 04 06:20:37 +0000 2012', 'favourites_count': 1062, 'utc_offset': None, 'time_zone': None, 'geo_enabled': False, 'verified': False, 'statuses_count': 1459, 'lang': None, 'contributors_enabled': False, 'is_translator': False, 'is_translation_enabled': False, 'profile_background_color': 'FFFFFF', 'profile_background_image_url': 'http://abs.twimg.com/images/themes/theme5/bg.gif', 'profile_background_image_url_https': 'https://abs.twimg.com/images/themes/theme5/bg.gif', 'profile_background_tile': True, 'profile_image_url': 'http://pbs.twimg.com/profile_images/1021861197316939776/Momm3Da6_normal.jpg', 'profile_image_url_https': 'https://pbs.twimg.com/profile_images/1021861197316939776/Momm3Da6_normal.jpg', 'profile_banner_url': 'https://pbs.twimg.com/profile_banners/544973361/1396980548', 'profile_link_color': '000000', 'profile_sidebar_border_color': 'FFFFFF', 'profile_sidebar_fill_color': 'FFFFFF', 'profile_text_color': '000000', 'profile_use_background_image': True, 'has_extended_profile': True, 'default_profile': False, 'default_profile_image': False, 'following': False, 'follow_request_sent': False, 'notifications': False, 'translator_type': 'none'}, 'geo': None, 'coordinates': None, 'place': None, 'contributors': None, 'retweeted_status': {'created_at': 'Wed Apr 29 19:14:21 +0000 2020', 'id': 1255576172831936500, 'id_str': '1255576172831936516', 'full_text': '#COVID19 is killing young Black Americans at an alarmingly high rate. \\n\\nThe pandemic has laid bare the deadly results of underlying racism &amp; inequality in our institutions. \\n\\nThere can be no health justice without racial justice. \\n\\n#Health4All. https://t.co/Nhl85zM642', 'truncated': False, 'display_text_range': [0, 248], 'entities': {'hashtags': [{'text': 'COVID19', 'indices': [0, 8]}, {'text': 'Health4All', 'indices': [236, 247]}], 'symbols': [], 'user_mentions': [], 'urls': [], 'media': [{'id': 1255576169916833800, 'id_str': '1255576169916833794', 'indices': [249, 272], 'media_url': 'http://pbs.twimg.com/media/EWyz38xWoAI248x.jpg', 'media_url_https': 'https://pbs.twimg.com/media/EWyz38xWoAI248x.jpg', 'url': 'https://t.co/Nhl85zM642', 'display_url': 'pic.twitter.com/Nhl85zM642', 'expanded_url': 'https://twitter.com/CalEndow/status/1255576172831936516/photo/1', 'type': 'photo', 'sizes': {'thumb': {'w': 150, 'h': 150, 'resize': 'crop'}, 'medium': {'w': 1200, 'h': 675, 'resize': 'fit'}, 'small': {'w': 680, 'h': 383, 'resize': 'fit'}, 'large': {'w': 1200, 'h': 675, 'resize': 'fit'}}}]}, 'extended_entities': {'media': [{'id': 1255576169916833800, 'id_str': '1255576169916833794', 'indices': [249, 272], 'media_url': 'http://pbs.twimg.com/media/EWyz38xWoAI248x.jpg', 'media_url_https': 'https://pbs.twimg.com/media/EWyz38xWoAI248x.jpg', 'url': 'https://t.co/Nhl85zM642', 'display_url': 'pic.twitter.com/Nhl85zM642', 'expanded_url': 'https://twitter.com/CalEndow/status/1255576172831936516/photo/1', 'type': 'photo', 'sizes': {'thumb': {'w': 150, 'h': 150, 'resize': 'crop'}, 'medium': {'w': 1200, 'h': 675, 'resize': 'fit'}, 'small': {'w': 680, 'h': 383, 'resize': 'fit'}, 'large': {'w': 1200, 'h': 675, 'resize': 'fit'}}}]}, 'source': '<a href=\"https://www.heyorca.com\" rel=\"nofollow\">HeyOrca</a>', 'in_reply_to_status_id': None, 'in_reply_to_status_id_str': None, 'in_reply_to_user_id': None, 'in_reply_to_user_id_str': None, 'in_reply_to_screen_name': None, 'user': {'id': 132254256, 'id_str': '132254256', 'name': 'California Endowment', 'screen_name': 'CalEndow', 'location': 'California', 'description': 'A private foundation promoting improvements in the health status of all Californians. #PeoplePower ✊🏾', 'url': 'https://t.co/K6hJT0xra5', 'entities': {'url': {'urls': [{'url': 'https://t.co/K6hJT0xra5', 'expanded_url': 'http://www.calendow.org', 'display_url': 'calendow.org', 'indices': [0, 23]}]}, 'description': {'urls': []}}, 'protected': False, 'followers_count': 42775, 'friends_count': 2286, 'listed_count': 812, 'created_at': 'Mon Apr 12 18:37:44 +0000 2010', 'favourites_count': 6549, 'utc_offset': None, 'time_zone': None, 'geo_enabled': True, 'verified': True, 'statuses_count': 21616, 'lang': None, 'contributors_enabled': False, 'is_translator': False, 'is_translation_enabled': False, 'profile_background_color': '00496E', 'profile_background_image_url': 'http://abs.twimg.com/images/themes/theme1/bg.png', 'profile_background_image_url_https': 'https://abs.twimg.com/images/themes/theme1/bg.png', 'profile_background_tile': False, 'profile_image_url': 'http://pbs.twimg.com/profile_images/1060589751546261505/6NiTceck_normal.jpg', 'profile_image_url_https': 'https://pbs.twimg.com/profile_images/1060589751546261505/6NiTceck_normal.jpg', 'profile_banner_url': 'https://pbs.twimg.com/profile_banners/132254256/1543947891', 'profile_link_color': '00496E', 'profile_sidebar_border_color': 'FFFFFF', 'profile_sidebar_fill_color': 'FFFFFF', 'profile_text_color': '333333', 'profile_use_background_image': True, 'has_extended_profile': False, 'default_profile': False, 'default_profile_image': False, 'following': False, 'follow_request_sent': False, 'notifications': False, 'translator_type': 'none'}, 'geo': None, 'coordinates': None, 'place': None, 'contributors': None, 'is_quote_status': False, 'retweet_count': 547, 'favorite_count': 1676, 'favorited': False, 'retweeted': False, 'possibly_sensitive': False, 'lang': 'en'}, 'is_quote_status': False, 'retweet_count': 547, 'favorite_count': 0, 'favorited': False, 'retweeted': False, 'lang': 'en'}\n"
          ],
          "name": "stdout"
        }
      ]
    },
    {
      "cell_type": "markdown",
      "metadata": {
        "id": "ye5dP5HZwLtZ",
        "colab_type": "text"
      },
      "source": [
        "<h2 id=\"Convert_Data\">Converting Data into Dataframes</h2>"
      ]
    },
    {
      "cell_type": "markdown",
      "metadata": {
        "id": "V-8-H8gQvxbs",
        "colab_type": "text"
      },
      "source": [
        "Get data from imported csv file. Convert the csv data gathered into a Dataframe with the proper type values."
      ]
    },
    {
      "cell_type": "code",
      "metadata": {
        "id": "_LYF4CTbokRL",
        "colab_type": "code",
        "colab": {
          "base_uri": "https://localhost:8080/",
          "height": 424
        },
        "outputId": "48a8e7df-51b4-4243-dcd2-70ced3b9acd6"
      },
      "source": [
        "csv_data = []\n",
        "\n",
        "with open('lab4.csv') as csvfile:\n",
        "    readCSV = csv.reader(csvfile, delimiter=',')\n",
        "    for row in readCSV:\n",
        "      csv_data.append([])\n",
        "      for item in row:\n",
        "          csv_data[-1].append(item)\n",
        "\n",
        "df_csv = pd.DataFrame(csv_data, columns=['ID','Rating'])\n",
        "df_csv['ID'] = df_csv['ID'].astype(int)\n",
        "df_csv['Rating'] = df_csv['Rating'].astype(float)\n",
        "\n",
        "df_csv"
      ],
      "execution_count": null,
      "outputs": [
        {
          "output_type": "execute_result",
          "data": {
            "text/html": [
              "<div>\n",
              "<style scoped>\n",
              "    .dataframe tbody tr th:only-of-type {\n",
              "        vertical-align: middle;\n",
              "    }\n",
              "\n",
              "    .dataframe tbody tr th {\n",
              "        vertical-align: top;\n",
              "    }\n",
              "\n",
              "    .dataframe thead th {\n",
              "        text-align: right;\n",
              "    }\n",
              "</style>\n",
              "<table border=\"1\" class=\"dataframe\">\n",
              "  <thead>\n",
              "    <tr style=\"text-align: right;\">\n",
              "      <th></th>\n",
              "      <th>ID</th>\n",
              "      <th>Rating</th>\n",
              "    </tr>\n",
              "  </thead>\n",
              "  <tbody>\n",
              "    <tr>\n",
              "      <th>0</th>\n",
              "      <td>1274559089041907712</td>\n",
              "      <td>0.800000</td>\n",
              "    </tr>\n",
              "    <tr>\n",
              "      <th>1</th>\n",
              "      <td>1274559089209638912</td>\n",
              "      <td>-1.000000</td>\n",
              "    </tr>\n",
              "    <tr>\n",
              "      <th>2</th>\n",
              "      <td>1274559089570349056</td>\n",
              "      <td>0.136364</td>\n",
              "    </tr>\n",
              "    <tr>\n",
              "      <th>3</th>\n",
              "      <td>1274559089696219136</td>\n",
              "      <td>0.100000</td>\n",
              "    </tr>\n",
              "    <tr>\n",
              "      <th>4</th>\n",
              "      <td>1274559089633193988</td>\n",
              "      <td>-0.227778</td>\n",
              "    </tr>\n",
              "    <tr>\n",
              "      <th>...</th>\n",
              "      <td>...</td>\n",
              "      <td>...</td>\n",
              "    </tr>\n",
              "    <tr>\n",
              "      <th>3352638</th>\n",
              "      <td>1274921323509080065</td>\n",
              "      <td>-0.187500</td>\n",
              "    </tr>\n",
              "    <tr>\n",
              "      <th>3352639</th>\n",
              "      <td>1274921323593109505</td>\n",
              "      <td>-0.275000</td>\n",
              "    </tr>\n",
              "    <tr>\n",
              "      <th>3352640</th>\n",
              "      <td>1274921323693699073</td>\n",
              "      <td>-0.200000</td>\n",
              "    </tr>\n",
              "    <tr>\n",
              "      <th>3352641</th>\n",
              "      <td>1274921323823804422</td>\n",
              "      <td>-0.900000</td>\n",
              "    </tr>\n",
              "    <tr>\n",
              "      <th>3352642</th>\n",
              "      <td>1274921323916075010</td>\n",
              "      <td>0.000000</td>\n",
              "    </tr>\n",
              "  </tbody>\n",
              "</table>\n",
              "<p>3352643 rows × 2 columns</p>\n",
              "</div>"
            ],
            "text/plain": [
              "                          ID    Rating\n",
              "0        1274559089041907712  0.800000\n",
              "1        1274559089209638912 -1.000000\n",
              "2        1274559089570349056  0.136364\n",
              "3        1274559089696219136  0.100000\n",
              "4        1274559089633193988 -0.227778\n",
              "...                      ...       ...\n",
              "3352638  1274921323509080065 -0.187500\n",
              "3352639  1274921323593109505 -0.275000\n",
              "3352640  1274921323693699073 -0.200000\n",
              "3352641  1274921323823804422 -0.900000\n",
              "3352642  1274921323916075010  0.000000\n",
              "\n",
              "[3352643 rows x 2 columns]"
            ]
          },
          "metadata": {
            "tags": []
          },
          "execution_count": 37
        }
      ]
    },
    {
      "cell_type": "markdown",
      "metadata": {
        "id": "LDWfrFdtwHxP",
        "colab_type": "text"
      },
      "source": [
        "Get specific data columns from jsonl file and convert them into a Dataframe.\n",
        "\n",
        "Only take tweets that are in English and remove any rows that have missing information."
      ]
    },
    {
      "cell_type": "code",
      "metadata": {
        "id": "8LrM9JJP_pQ-",
        "colab_type": "code",
        "colab": {
          "base_uri": "https://localhost:8080/",
          "height": 424
        },
        "outputId": "386e148a-78eb-4cc4-df1b-da63a2e0836a"
      },
      "source": [
        "df = pd.DataFrame()\n",
        "\n",
        "db_data = []\n",
        "db_cols = ['id','full_text', 'created_at']\n",
        "for d in data:\n",
        "  if (d['lang'] == 'en'):\n",
        "    db_data.append([])\n",
        "    for col in db_cols:\n",
        "      db_data[-1].append(d.get(col, float('nan')))\n",
        "\n",
        "df = pd.DataFrame(db_data, columns=['ID','Tweets','Time'])\n",
        "df = df.dropna()\n",
        "df"
      ],
      "execution_count": null,
      "outputs": [
        {
          "output_type": "execute_result",
          "data": {
            "text/html": [
              "<div>\n",
              "<style scoped>\n",
              "    .dataframe tbody tr th:only-of-type {\n",
              "        vertical-align: middle;\n",
              "    }\n",
              "\n",
              "    .dataframe tbody tr th {\n",
              "        vertical-align: top;\n",
              "    }\n",
              "\n",
              "    .dataframe thead th {\n",
              "        text-align: right;\n",
              "    }\n",
              "</style>\n",
              "<table border=\"1\" class=\"dataframe\">\n",
              "  <thead>\n",
              "    <tr style=\"text-align: right;\">\n",
              "      <th></th>\n",
              "      <th>ID</th>\n",
              "      <th>Tweets</th>\n",
              "      <th>Time</th>\n",
              "    </tr>\n",
              "  </thead>\n",
              "  <tbody>\n",
              "    <tr>\n",
              "      <th>0</th>\n",
              "      <td>1274559273830400000</td>\n",
              "      <td>RT @SheaSerrano: trump supporters are so fucki...</td>\n",
              "      <td>Sun Jun 21 04:26:25 +0000 2020</td>\n",
              "    </tr>\n",
              "    <tr>\n",
              "      <th>1</th>\n",
              "      <td>1274559347566080000</td>\n",
              "      <td>RT @DrRobDavidson: It’s clear that @realDonald...</td>\n",
              "      <td>Sun Jun 21 04:26:43 +0000 2020</td>\n",
              "    </tr>\n",
              "    <tr>\n",
              "      <th>2</th>\n",
              "      <td>1274559381854720000</td>\n",
              "      <td>This is literally the dumbest thing I have eve...</td>\n",
              "      <td>Sun Jun 21 04:26:51 +0000 2020</td>\n",
              "    </tr>\n",
              "    <tr>\n",
              "      <th>3</th>\n",
              "      <td>1274559374036480000</td>\n",
              "      <td>RT @IHME_UW: Explore #COVID19 projections of h...</td>\n",
              "      <td>Sun Jun 21 04:26:49 +0000 2020</td>\n",
              "    </tr>\n",
              "    <tr>\n",
              "      <th>4</th>\n",
              "      <td>1274559383779840000</td>\n",
              "      <td>RT @perlmutations: Trump’s Tulsa Rally require...</td>\n",
              "      <td>Sun Jun 21 04:26:51 +0000 2020</td>\n",
              "    </tr>\n",
              "    <tr>\n",
              "      <th>...</th>\n",
              "      <td>...</td>\n",
              "      <td>...</td>\n",
              "      <td>...</td>\n",
              "    </tr>\n",
              "    <tr>\n",
              "      <th>970</th>\n",
              "      <td>1274691318824960000</td>\n",
              "      <td>RT @jonfavs: This is an entire speech about al...</td>\n",
              "      <td>Sun Jun 21 13:11:07 +0000 2020</td>\n",
              "    </tr>\n",
              "    <tr>\n",
              "      <th>971</th>\n",
              "      <td>1274691408998400000</td>\n",
              "      <td>RT @bgluckman: I can't believe people are stil...</td>\n",
              "      <td>Sun Jun 21 13:11:29 +0000 2020</td>\n",
              "    </tr>\n",
              "    <tr>\n",
              "      <th>972</th>\n",
              "      <td>1274691662535680000</td>\n",
              "      <td>\"TFL AND LONDON MAYORS INCREASE AND CHANGES TO...</td>\n",
              "      <td>Sun Jun 21 13:12:29 +0000 2020</td>\n",
              "    </tr>\n",
              "    <tr>\n",
              "      <th>973</th>\n",
              "      <td>1274691912860160000</td>\n",
              "      <td>RT @TimMurtaugh: This, obviously, is fake, and...</td>\n",
              "      <td>Sun Jun 21 13:13:29 +0000 2020</td>\n",
              "    </tr>\n",
              "    <tr>\n",
              "      <th>974</th>\n",
              "      <td>1274692254238720000</td>\n",
              "      <td>New lies brought by #COVID19 https://t.co/Md29...</td>\n",
              "      <td>Sun Jun 21 13:14:50 +0000 2020</td>\n",
              "    </tr>\n",
              "  </tbody>\n",
              "</table>\n",
              "<p>975 rows × 3 columns</p>\n",
              "</div>"
            ],
            "text/plain": [
              "                      ID  ...                            Time\n",
              "0    1274559273830400000  ...  Sun Jun 21 04:26:25 +0000 2020\n",
              "1    1274559347566080000  ...  Sun Jun 21 04:26:43 +0000 2020\n",
              "2    1274559381854720000  ...  Sun Jun 21 04:26:51 +0000 2020\n",
              "3    1274559374036480000  ...  Sun Jun 21 04:26:49 +0000 2020\n",
              "4    1274559383779840000  ...  Sun Jun 21 04:26:51 +0000 2020\n",
              "..                   ...  ...                             ...\n",
              "970  1274691318824960000  ...  Sun Jun 21 13:11:07 +0000 2020\n",
              "971  1274691408998400000  ...  Sun Jun 21 13:11:29 +0000 2020\n",
              "972  1274691662535680000  ...  Sun Jun 21 13:12:29 +0000 2020\n",
              "973  1274691912860160000  ...  Sun Jun 21 13:13:29 +0000 2020\n",
              "974  1274692254238720000  ...  Sun Jun 21 13:14:50 +0000 2020\n",
              "\n",
              "[975 rows x 3 columns]"
            ]
          },
          "metadata": {
            "tags": []
          },
          "execution_count": 38
        }
      ]
    },
    {
      "cell_type": "markdown",
      "metadata": {
        "id": "Wzmpp9SmxB9n",
        "colab_type": "text"
      },
      "source": [
        "<h2 id=\"Date\">Date Time Conversion</h2>\n",
        "\n",
        "Get properly formated date information to be used for the AI model."
      ]
    },
    {
      "cell_type": "code",
      "metadata": {
        "id": "Z0OH5CYG2oWl",
        "colab_type": "code",
        "colab": {
          "base_uri": "https://localhost:8080/",
          "height": 424
        },
        "outputId": "76b8e97f-b944-4a21-a9fd-5b9e4980f43d"
      },
      "source": [
        "df['Month'] = pd.DatetimeIndex(df['Time']).month\n",
        "df['Month'] = pd.to_datetime(df['Month'], format='%m').dt.month_name()\n",
        "\n",
        "df"
      ],
      "execution_count": null,
      "outputs": [
        {
          "output_type": "execute_result",
          "data": {
            "text/html": [
              "<div>\n",
              "<style scoped>\n",
              "    .dataframe tbody tr th:only-of-type {\n",
              "        vertical-align: middle;\n",
              "    }\n",
              "\n",
              "    .dataframe tbody tr th {\n",
              "        vertical-align: top;\n",
              "    }\n",
              "\n",
              "    .dataframe thead th {\n",
              "        text-align: right;\n",
              "    }\n",
              "</style>\n",
              "<table border=\"1\" class=\"dataframe\">\n",
              "  <thead>\n",
              "    <tr style=\"text-align: right;\">\n",
              "      <th></th>\n",
              "      <th>ID</th>\n",
              "      <th>Tweets</th>\n",
              "      <th>Time</th>\n",
              "      <th>Month</th>\n",
              "    </tr>\n",
              "  </thead>\n",
              "  <tbody>\n",
              "    <tr>\n",
              "      <th>0</th>\n",
              "      <td>1274559273830400000</td>\n",
              "      <td>RT @SheaSerrano: trump supporters are so fucki...</td>\n",
              "      <td>Sun Jun 21 04:26:25 +0000 2020</td>\n",
              "      <td>June</td>\n",
              "    </tr>\n",
              "    <tr>\n",
              "      <th>1</th>\n",
              "      <td>1274559347566080000</td>\n",
              "      <td>RT @DrRobDavidson: It’s clear that @realDonald...</td>\n",
              "      <td>Sun Jun 21 04:26:43 +0000 2020</td>\n",
              "      <td>June</td>\n",
              "    </tr>\n",
              "    <tr>\n",
              "      <th>2</th>\n",
              "      <td>1274559381854720000</td>\n",
              "      <td>This is literally the dumbest thing I have eve...</td>\n",
              "      <td>Sun Jun 21 04:26:51 +0000 2020</td>\n",
              "      <td>June</td>\n",
              "    </tr>\n",
              "    <tr>\n",
              "      <th>3</th>\n",
              "      <td>1274559374036480000</td>\n",
              "      <td>RT @IHME_UW: Explore #COVID19 projections of h...</td>\n",
              "      <td>Sun Jun 21 04:26:49 +0000 2020</td>\n",
              "      <td>June</td>\n",
              "    </tr>\n",
              "    <tr>\n",
              "      <th>4</th>\n",
              "      <td>1274559383779840000</td>\n",
              "      <td>RT @perlmutations: Trump’s Tulsa Rally require...</td>\n",
              "      <td>Sun Jun 21 04:26:51 +0000 2020</td>\n",
              "      <td>June</td>\n",
              "    </tr>\n",
              "    <tr>\n",
              "      <th>...</th>\n",
              "      <td>...</td>\n",
              "      <td>...</td>\n",
              "      <td>...</td>\n",
              "      <td>...</td>\n",
              "    </tr>\n",
              "    <tr>\n",
              "      <th>970</th>\n",
              "      <td>1274691318824960000</td>\n",
              "      <td>RT @jonfavs: This is an entire speech about al...</td>\n",
              "      <td>Sun Jun 21 13:11:07 +0000 2020</td>\n",
              "      <td>June</td>\n",
              "    </tr>\n",
              "    <tr>\n",
              "      <th>971</th>\n",
              "      <td>1274691408998400000</td>\n",
              "      <td>RT @bgluckman: I can't believe people are stil...</td>\n",
              "      <td>Sun Jun 21 13:11:29 +0000 2020</td>\n",
              "      <td>June</td>\n",
              "    </tr>\n",
              "    <tr>\n",
              "      <th>972</th>\n",
              "      <td>1274691662535680000</td>\n",
              "      <td>\"TFL AND LONDON MAYORS INCREASE AND CHANGES TO...</td>\n",
              "      <td>Sun Jun 21 13:12:29 +0000 2020</td>\n",
              "      <td>June</td>\n",
              "    </tr>\n",
              "    <tr>\n",
              "      <th>973</th>\n",
              "      <td>1274691912860160000</td>\n",
              "      <td>RT @TimMurtaugh: This, obviously, is fake, and...</td>\n",
              "      <td>Sun Jun 21 13:13:29 +0000 2020</td>\n",
              "      <td>June</td>\n",
              "    </tr>\n",
              "    <tr>\n",
              "      <th>974</th>\n",
              "      <td>1274692254238720000</td>\n",
              "      <td>New lies brought by #COVID19 https://t.co/Md29...</td>\n",
              "      <td>Sun Jun 21 13:14:50 +0000 2020</td>\n",
              "      <td>June</td>\n",
              "    </tr>\n",
              "  </tbody>\n",
              "</table>\n",
              "<p>975 rows × 4 columns</p>\n",
              "</div>"
            ],
            "text/plain": [
              "                      ID  ... Month\n",
              "0    1274559273830400000  ...  June\n",
              "1    1274559347566080000  ...  June\n",
              "2    1274559381854720000  ...  June\n",
              "3    1274559374036480000  ...  June\n",
              "4    1274559383779840000  ...  June\n",
              "..                   ...  ...   ...\n",
              "970  1274691318824960000  ...  June\n",
              "971  1274691408998400000  ...  June\n",
              "972  1274691662535680000  ...  June\n",
              "973  1274691912860160000  ...  June\n",
              "974  1274692254238720000  ...  June\n",
              "\n",
              "[975 rows x 4 columns]"
            ]
          },
          "metadata": {
            "tags": []
          },
          "execution_count": 40
        }
      ]
    },
    {
      "cell_type": "markdown",
      "metadata": {
        "id": "0zdYSHKoxy3N",
        "colab_type": "text"
      },
      "source": [
        "<h2 id=\"Clean_Tweet\">Clean Tweet Messages</h2>\n",
        "\n",
        "Remove any unnecessary text from the tweet that should not affect the sentiment analysis."
      ]
    },
    {
      "cell_type": "markdown",
      "metadata": {
        "id": "QLmInfEDyVqd",
        "colab_type": "text"
      },
      "source": [
        "This is a helper function to clean the tweet."
      ]
    },
    {
      "cell_type": "code",
      "metadata": {
        "id": "OJ9azJ42_sTp",
        "colab_type": "code",
        "colab": {
          "base_uri": "https://localhost:8080/",
          "height": 424
        },
        "outputId": "0ac99bdd-769a-4e3b-f18e-f88d921902a0"
      },
      "source": [
        "# Clean tweet text\n",
        "\n",
        "# Function to clean the tweets\n",
        "def cleanTweet(text):\n",
        "  text = re.sub('@[A-Za-z0–9]+', '', text) #Removing @mentions\n",
        "  text = re.sub('_[A-Za-z0–9]+', '', text) #Removing _words\n",
        "  text = re.sub('\\n', '', text) #Removing _words\n",
        "  text = re.sub('#', '', text) # Removing '#' hash tag\n",
        "  text = re.sub('RT[\\s]+', '', text) # Removing RT\n",
        "  text = re.sub('https?:\\/\\/\\S+', '', text) # Removing hyperlink\n",
        "  \n",
        "  return text\n",
        "\n",
        "df['Tweets'] = df['Tweets'].apply(cleanTweet)\n",
        "\n",
        "# Remove certain punctuations\n",
        "df['Tweets'] = df['Tweets'].str.replace(':', '')\n",
        "\n",
        "df['ID'] = df['ID'].astype(int)\n",
        "\n",
        "df"
      ],
      "execution_count": null,
      "outputs": [
        {
          "output_type": "execute_result",
          "data": {
            "text/html": [
              "<div>\n",
              "<style scoped>\n",
              "    .dataframe tbody tr th:only-of-type {\n",
              "        vertical-align: middle;\n",
              "    }\n",
              "\n",
              "    .dataframe tbody tr th {\n",
              "        vertical-align: top;\n",
              "    }\n",
              "\n",
              "    .dataframe thead th {\n",
              "        text-align: right;\n",
              "    }\n",
              "</style>\n",
              "<table border=\"1\" class=\"dataframe\">\n",
              "  <thead>\n",
              "    <tr style=\"text-align: right;\">\n",
              "      <th></th>\n",
              "      <th>ID</th>\n",
              "      <th>Tweets</th>\n",
              "      <th>Time</th>\n",
              "      <th>Month</th>\n",
              "    </tr>\n",
              "  </thead>\n",
              "  <tbody>\n",
              "    <tr>\n",
              "      <th>0</th>\n",
              "      <td>1274559273830400000</td>\n",
              "      <td>trump supporters are so fucking dumb that eve...</td>\n",
              "      <td>Sun Jun 21 04:26:25 +0000 2020</td>\n",
              "      <td>June</td>\n",
              "    </tr>\n",
              "    <tr>\n",
              "      <th>1</th>\n",
              "      <td>1274559347566080000</td>\n",
              "      <td>It’s clear that  doesn’t have our backs in th...</td>\n",
              "      <td>Sun Jun 21 04:26:43 +0000 2020</td>\n",
              "      <td>June</td>\n",
              "    </tr>\n",
              "    <tr>\n",
              "      <th>2</th>\n",
              "      <td>1274559381854720000</td>\n",
              "      <td>This is literally the dumbest thing I have eve...</td>\n",
              "      <td>Sun Jun 21 04:26:51 +0000 2020</td>\n",
              "      <td>June</td>\n",
              "    </tr>\n",
              "    <tr>\n",
              "      <th>3</th>\n",
              "      <td>1274559374036480000</td>\n",
              "      <td>Explore COVID19 projections of hospital resou...</td>\n",
              "      <td>Sun Jun 21 04:26:49 +0000 2020</td>\n",
              "      <td>June</td>\n",
              "    </tr>\n",
              "    <tr>\n",
              "      <th>4</th>\n",
              "      <td>1274559383779840000</td>\n",
              "      <td>Trump’s Tulsa Rally requires no masks, no soc...</td>\n",
              "      <td>Sun Jun 21 04:26:51 +0000 2020</td>\n",
              "      <td>June</td>\n",
              "    </tr>\n",
              "    <tr>\n",
              "      <th>...</th>\n",
              "      <td>...</td>\n",
              "      <td>...</td>\n",
              "      <td>...</td>\n",
              "      <td>...</td>\n",
              "    </tr>\n",
              "    <tr>\n",
              "      <th>970</th>\n",
              "      <td>1274691318824960000</td>\n",
              "      <td>This is an entire speech about all the ways t...</td>\n",
              "      <td>Sun Jun 21 13:11:07 +0000 2020</td>\n",
              "      <td>June</td>\n",
              "    </tr>\n",
              "    <tr>\n",
              "      <th>971</th>\n",
              "      <td>1274691408998400000</td>\n",
              "      <td>I can't believe people are still arguing abou...</td>\n",
              "      <td>Sun Jun 21 13:11:29 +0000 2020</td>\n",
              "      <td>June</td>\n",
              "    </tr>\n",
              "    <tr>\n",
              "      <th>972</th>\n",
              "      <td>1274691662535680000</td>\n",
              "      <td>\"TFL AND LONDON MAYORS INCREASE AND CHANGES TO...</td>\n",
              "      <td>Sun Jun 21 13:12:29 +0000 2020</td>\n",
              "      <td>June</td>\n",
              "    </tr>\n",
              "    <tr>\n",
              "      <th>973</th>\n",
              "      <td>1274691912860160000</td>\n",
              "      <td>This, obviously, is fake, and a recurring lie...</td>\n",
              "      <td>Sun Jun 21 13:13:29 +0000 2020</td>\n",
              "      <td>June</td>\n",
              "    </tr>\n",
              "    <tr>\n",
              "      <th>974</th>\n",
              "      <td>1274692254238720000</td>\n",
              "      <td>New lies brought by COVID19</td>\n",
              "      <td>Sun Jun 21 13:14:50 +0000 2020</td>\n",
              "      <td>June</td>\n",
              "    </tr>\n",
              "  </tbody>\n",
              "</table>\n",
              "<p>975 rows × 4 columns</p>\n",
              "</div>"
            ],
            "text/plain": [
              "                      ID  ... Month\n",
              "0    1274559273830400000  ...  June\n",
              "1    1274559347566080000  ...  June\n",
              "2    1274559381854720000  ...  June\n",
              "3    1274559374036480000  ...  June\n",
              "4    1274559383779840000  ...  June\n",
              "..                   ...  ...   ...\n",
              "970  1274691318824960000  ...  June\n",
              "971  1274691408998400000  ...  June\n",
              "972  1274691662535680000  ...  June\n",
              "973  1274691912860160000  ...  June\n",
              "974  1274692254238720000  ...  June\n",
              "\n",
              "[975 rows x 4 columns]"
            ]
          },
          "metadata": {
            "tags": []
          },
          "execution_count": 41
        }
      ]
    },
    {
      "cell_type": "markdown",
      "metadata": {
        "id": "mYvvA7tjyg1E",
        "colab_type": "text"
      },
      "source": [
        "<h2 id=\"Compile_Data\">Compile Training Dataset</h2>\n"
      ]
    },
    {
      "cell_type": "markdown",
      "metadata": {
        "id": "Uy5CB2G9ysib",
        "colab_type": "text"
      },
      "source": [
        "Merge data from jsonl and csv into a new Dataframe."
      ]
    },
    {
      "cell_type": "code",
      "metadata": {
        "id": "DUd6CWs-1rYm",
        "colab_type": "code",
        "colab": {
          "base_uri": "https://localhost:8080/",
          "height": 424
        },
        "outputId": "4a812287-ace1-4b2c-8747-0263d23a1c35"
      },
      "source": [
        "df3 = pd.merge(df, df_csv, how ='inner', on ='ID') \n",
        "df3"
      ],
      "execution_count": null,
      "outputs": [
        {
          "output_type": "execute_result",
          "data": {
            "text/html": [
              "<div>\n",
              "<style scoped>\n",
              "    .dataframe tbody tr th:only-of-type {\n",
              "        vertical-align: middle;\n",
              "    }\n",
              "\n",
              "    .dataframe tbody tr th {\n",
              "        vertical-align: top;\n",
              "    }\n",
              "\n",
              "    .dataframe thead th {\n",
              "        text-align: right;\n",
              "    }\n",
              "</style>\n",
              "<table border=\"1\" class=\"dataframe\">\n",
              "  <thead>\n",
              "    <tr style=\"text-align: right;\">\n",
              "      <th></th>\n",
              "      <th>ID</th>\n",
              "      <th>Tweets</th>\n",
              "      <th>Time</th>\n",
              "      <th>Month</th>\n",
              "      <th>Rating</th>\n",
              "    </tr>\n",
              "  </thead>\n",
              "  <tbody>\n",
              "    <tr>\n",
              "      <th>0</th>\n",
              "      <td>1274559273830400000</td>\n",
              "      <td>trump supporters are so fucking dumb that eve...</td>\n",
              "      <td>Sun Jun 21 04:26:25 +0000 2020</td>\n",
              "      <td>June</td>\n",
              "      <td>-0.087500</td>\n",
              "    </tr>\n",
              "    <tr>\n",
              "      <th>1</th>\n",
              "      <td>1274559347566080000</td>\n",
              "      <td>It’s clear that  doesn’t have our backs in th...</td>\n",
              "      <td>Sun Jun 21 04:26:43 +0000 2020</td>\n",
              "      <td>June</td>\n",
              "      <td>0.100000</td>\n",
              "    </tr>\n",
              "    <tr>\n",
              "      <th>2</th>\n",
              "      <td>1274559381854720000</td>\n",
              "      <td>This is literally the dumbest thing I have eve...</td>\n",
              "      <td>Sun Jun 21 04:26:51 +0000 2020</td>\n",
              "      <td>June</td>\n",
              "      <td>0.000000</td>\n",
              "    </tr>\n",
              "    <tr>\n",
              "      <th>3</th>\n",
              "      <td>1274559374036480000</td>\n",
              "      <td>Explore COVID19 projections of hospital resou...</td>\n",
              "      <td>Sun Jun 21 04:26:49 +0000 2020</td>\n",
              "      <td>June</td>\n",
              "      <td>0.011111</td>\n",
              "    </tr>\n",
              "    <tr>\n",
              "      <th>4</th>\n",
              "      <td>1274559383779840000</td>\n",
              "      <td>Trump’s Tulsa Rally requires no masks, no soc...</td>\n",
              "      <td>Sun Jun 21 04:26:51 +0000 2020</td>\n",
              "      <td>June</td>\n",
              "      <td>-0.016667</td>\n",
              "    </tr>\n",
              "    <tr>\n",
              "      <th>...</th>\n",
              "      <td>...</td>\n",
              "      <td>...</td>\n",
              "      <td>...</td>\n",
              "      <td>...</td>\n",
              "      <td>...</td>\n",
              "    </tr>\n",
              "    <tr>\n",
              "      <th>876</th>\n",
              "      <td>1274691318824960000</td>\n",
              "      <td>This is an entire speech about all the ways t...</td>\n",
              "      <td>Sun Jun 21 13:11:07 +0000 2020</td>\n",
              "      <td>June</td>\n",
              "      <td>0.031250</td>\n",
              "    </tr>\n",
              "    <tr>\n",
              "      <th>877</th>\n",
              "      <td>1274691408998400000</td>\n",
              "      <td>I can't believe people are still arguing abou...</td>\n",
              "      <td>Sun Jun 21 13:11:29 +0000 2020</td>\n",
              "      <td>June</td>\n",
              "      <td>0.000000</td>\n",
              "    </tr>\n",
              "    <tr>\n",
              "      <th>878</th>\n",
              "      <td>1274691662535680000</td>\n",
              "      <td>\"TFL AND LONDON MAYORS INCREASE AND CHANGES TO...</td>\n",
              "      <td>Sun Jun 21 13:12:29 +0000 2020</td>\n",
              "      <td>June</td>\n",
              "      <td>0.000000</td>\n",
              "    </tr>\n",
              "    <tr>\n",
              "      <th>879</th>\n",
              "      <td>1274691912860160000</td>\n",
              "      <td>This, obviously, is fake, and a recurring lie...</td>\n",
              "      <td>Sun Jun 21 13:13:29 +0000 2020</td>\n",
              "      <td>June</td>\n",
              "      <td>-0.500000</td>\n",
              "    </tr>\n",
              "    <tr>\n",
              "      <th>880</th>\n",
              "      <td>1274692254238720000</td>\n",
              "      <td>New lies brought by COVID19</td>\n",
              "      <td>Sun Jun 21 13:14:50 +0000 2020</td>\n",
              "      <td>June</td>\n",
              "      <td>0.136364</td>\n",
              "    </tr>\n",
              "  </tbody>\n",
              "</table>\n",
              "<p>881 rows × 5 columns</p>\n",
              "</div>"
            ],
            "text/plain": [
              "                      ID  ...    Rating\n",
              "0    1274559273830400000  ... -0.087500\n",
              "1    1274559347566080000  ...  0.100000\n",
              "2    1274559381854720000  ...  0.000000\n",
              "3    1274559374036480000  ...  0.011111\n",
              "4    1274559383779840000  ... -0.016667\n",
              "..                   ...  ...       ...\n",
              "876  1274691318824960000  ...  0.031250\n",
              "877  1274691408998400000  ...  0.000000\n",
              "878  1274691662535680000  ...  0.000000\n",
              "879  1274691912860160000  ... -0.500000\n",
              "880  1274692254238720000  ...  0.136364\n",
              "\n",
              "[881 rows x 5 columns]"
            ]
          },
          "metadata": {
            "tags": []
          },
          "execution_count": 42
        }
      ]
    },
    {
      "cell_type": "markdown",
      "metadata": {
        "id": "GT0ovEB1y26W",
        "colab_type": "text"
      },
      "source": [
        "Remove the tweet ID column. This data is not needed in the dataset to train the AI model."
      ]
    },
    {
      "cell_type": "code",
      "metadata": {
        "id": "13bl0Jxp1n6r",
        "colab_type": "code",
        "colab": {
          "base_uri": "https://localhost:8080/",
          "height": 424
        },
        "outputId": "164028ea-d60b-4864-b2ab-c43656645d2b"
      },
      "source": [
        "df3 = df3.drop(columns=['ID'])\n",
        "df3"
      ],
      "execution_count": null,
      "outputs": [
        {
          "output_type": "execute_result",
          "data": {
            "text/html": [
              "<div>\n",
              "<style scoped>\n",
              "    .dataframe tbody tr th:only-of-type {\n",
              "        vertical-align: middle;\n",
              "    }\n",
              "\n",
              "    .dataframe tbody tr th {\n",
              "        vertical-align: top;\n",
              "    }\n",
              "\n",
              "    .dataframe thead th {\n",
              "        text-align: right;\n",
              "    }\n",
              "</style>\n",
              "<table border=\"1\" class=\"dataframe\">\n",
              "  <thead>\n",
              "    <tr style=\"text-align: right;\">\n",
              "      <th></th>\n",
              "      <th>Tweets</th>\n",
              "      <th>Time</th>\n",
              "      <th>Month</th>\n",
              "      <th>Rating</th>\n",
              "    </tr>\n",
              "  </thead>\n",
              "  <tbody>\n",
              "    <tr>\n",
              "      <th>0</th>\n",
              "      <td>trump supporters are so fucking dumb that eve...</td>\n",
              "      <td>Sun Jun 21 04:26:25 +0000 2020</td>\n",
              "      <td>June</td>\n",
              "      <td>-0.087500</td>\n",
              "    </tr>\n",
              "    <tr>\n",
              "      <th>1</th>\n",
              "      <td>It’s clear that  doesn’t have our backs in th...</td>\n",
              "      <td>Sun Jun 21 04:26:43 +0000 2020</td>\n",
              "      <td>June</td>\n",
              "      <td>0.100000</td>\n",
              "    </tr>\n",
              "    <tr>\n",
              "      <th>2</th>\n",
              "      <td>This is literally the dumbest thing I have eve...</td>\n",
              "      <td>Sun Jun 21 04:26:51 +0000 2020</td>\n",
              "      <td>June</td>\n",
              "      <td>0.000000</td>\n",
              "    </tr>\n",
              "    <tr>\n",
              "      <th>3</th>\n",
              "      <td>Explore COVID19 projections of hospital resou...</td>\n",
              "      <td>Sun Jun 21 04:26:49 +0000 2020</td>\n",
              "      <td>June</td>\n",
              "      <td>0.011111</td>\n",
              "    </tr>\n",
              "    <tr>\n",
              "      <th>4</th>\n",
              "      <td>Trump’s Tulsa Rally requires no masks, no soc...</td>\n",
              "      <td>Sun Jun 21 04:26:51 +0000 2020</td>\n",
              "      <td>June</td>\n",
              "      <td>-0.016667</td>\n",
              "    </tr>\n",
              "    <tr>\n",
              "      <th>...</th>\n",
              "      <td>...</td>\n",
              "      <td>...</td>\n",
              "      <td>...</td>\n",
              "      <td>...</td>\n",
              "    </tr>\n",
              "    <tr>\n",
              "      <th>876</th>\n",
              "      <td>This is an entire speech about all the ways t...</td>\n",
              "      <td>Sun Jun 21 13:11:07 +0000 2020</td>\n",
              "      <td>June</td>\n",
              "      <td>0.031250</td>\n",
              "    </tr>\n",
              "    <tr>\n",
              "      <th>877</th>\n",
              "      <td>I can't believe people are still arguing abou...</td>\n",
              "      <td>Sun Jun 21 13:11:29 +0000 2020</td>\n",
              "      <td>June</td>\n",
              "      <td>0.000000</td>\n",
              "    </tr>\n",
              "    <tr>\n",
              "      <th>878</th>\n",
              "      <td>\"TFL AND LONDON MAYORS INCREASE AND CHANGES TO...</td>\n",
              "      <td>Sun Jun 21 13:12:29 +0000 2020</td>\n",
              "      <td>June</td>\n",
              "      <td>0.000000</td>\n",
              "    </tr>\n",
              "    <tr>\n",
              "      <th>879</th>\n",
              "      <td>This, obviously, is fake, and a recurring lie...</td>\n",
              "      <td>Sun Jun 21 13:13:29 +0000 2020</td>\n",
              "      <td>June</td>\n",
              "      <td>-0.500000</td>\n",
              "    </tr>\n",
              "    <tr>\n",
              "      <th>880</th>\n",
              "      <td>New lies brought by COVID19</td>\n",
              "      <td>Sun Jun 21 13:14:50 +0000 2020</td>\n",
              "      <td>June</td>\n",
              "      <td>0.136364</td>\n",
              "    </tr>\n",
              "  </tbody>\n",
              "</table>\n",
              "<p>881 rows × 4 columns</p>\n",
              "</div>"
            ],
            "text/plain": [
              "                                                Tweets  ...    Rating\n",
              "0     trump supporters are so fucking dumb that eve...  ... -0.087500\n",
              "1     It’s clear that  doesn’t have our backs in th...  ...  0.100000\n",
              "2    This is literally the dumbest thing I have eve...  ...  0.000000\n",
              "3     Explore COVID19 projections of hospital resou...  ...  0.011111\n",
              "4     Trump’s Tulsa Rally requires no masks, no soc...  ... -0.016667\n",
              "..                                                 ...  ...       ...\n",
              "876   This is an entire speech about all the ways t...  ...  0.031250\n",
              "877   I can't believe people are still arguing abou...  ...  0.000000\n",
              "878  \"TFL AND LONDON MAYORS INCREASE AND CHANGES TO...  ...  0.000000\n",
              "879   This, obviously, is fake, and a recurring lie...  ... -0.500000\n",
              "880                       New lies brought by COVID19   ...  0.136364\n",
              "\n",
              "[881 rows x 4 columns]"
            ]
          },
          "metadata": {
            "tags": []
          },
          "execution_count": 43
        }
      ]
    },
    {
      "cell_type": "markdown",
      "metadata": {
        "id": "jMzCQqoBzFf6",
        "colab_type": "text"
      },
      "source": [
        "Remove the detailed time column. This data is not needed in the dataset to train the AI model."
      ]
    },
    {
      "cell_type": "code",
      "metadata": {
        "id": "GWn78Jom3ghm",
        "colab_type": "code",
        "colab": {
          "base_uri": "https://localhost:8080/",
          "height": 424
        },
        "outputId": "d4e022ed-2d05-48dd-ba97-bcdf50cab7cc"
      },
      "source": [
        "df3 = df3.drop(columns=['Time'])\n",
        "df3"
      ],
      "execution_count": null,
      "outputs": [
        {
          "output_type": "execute_result",
          "data": {
            "text/html": [
              "<div>\n",
              "<style scoped>\n",
              "    .dataframe tbody tr th:only-of-type {\n",
              "        vertical-align: middle;\n",
              "    }\n",
              "\n",
              "    .dataframe tbody tr th {\n",
              "        vertical-align: top;\n",
              "    }\n",
              "\n",
              "    .dataframe thead th {\n",
              "        text-align: right;\n",
              "    }\n",
              "</style>\n",
              "<table border=\"1\" class=\"dataframe\">\n",
              "  <thead>\n",
              "    <tr style=\"text-align: right;\">\n",
              "      <th></th>\n",
              "      <th>Tweets</th>\n",
              "      <th>Month</th>\n",
              "      <th>Rating</th>\n",
              "    </tr>\n",
              "  </thead>\n",
              "  <tbody>\n",
              "    <tr>\n",
              "      <th>0</th>\n",
              "      <td>trump supporters are so fucking dumb that eve...</td>\n",
              "      <td>June</td>\n",
              "      <td>-0.087500</td>\n",
              "    </tr>\n",
              "    <tr>\n",
              "      <th>1</th>\n",
              "      <td>It’s clear that  doesn’t have our backs in th...</td>\n",
              "      <td>June</td>\n",
              "      <td>0.100000</td>\n",
              "    </tr>\n",
              "    <tr>\n",
              "      <th>2</th>\n",
              "      <td>This is literally the dumbest thing I have eve...</td>\n",
              "      <td>June</td>\n",
              "      <td>0.000000</td>\n",
              "    </tr>\n",
              "    <tr>\n",
              "      <th>3</th>\n",
              "      <td>Explore COVID19 projections of hospital resou...</td>\n",
              "      <td>June</td>\n",
              "      <td>0.011111</td>\n",
              "    </tr>\n",
              "    <tr>\n",
              "      <th>4</th>\n",
              "      <td>Trump’s Tulsa Rally requires no masks, no soc...</td>\n",
              "      <td>June</td>\n",
              "      <td>-0.016667</td>\n",
              "    </tr>\n",
              "    <tr>\n",
              "      <th>...</th>\n",
              "      <td>...</td>\n",
              "      <td>...</td>\n",
              "      <td>...</td>\n",
              "    </tr>\n",
              "    <tr>\n",
              "      <th>876</th>\n",
              "      <td>This is an entire speech about all the ways t...</td>\n",
              "      <td>June</td>\n",
              "      <td>0.031250</td>\n",
              "    </tr>\n",
              "    <tr>\n",
              "      <th>877</th>\n",
              "      <td>I can't believe people are still arguing abou...</td>\n",
              "      <td>June</td>\n",
              "      <td>0.000000</td>\n",
              "    </tr>\n",
              "    <tr>\n",
              "      <th>878</th>\n",
              "      <td>\"TFL AND LONDON MAYORS INCREASE AND CHANGES TO...</td>\n",
              "      <td>June</td>\n",
              "      <td>0.000000</td>\n",
              "    </tr>\n",
              "    <tr>\n",
              "      <th>879</th>\n",
              "      <td>This, obviously, is fake, and a recurring lie...</td>\n",
              "      <td>June</td>\n",
              "      <td>-0.500000</td>\n",
              "    </tr>\n",
              "    <tr>\n",
              "      <th>880</th>\n",
              "      <td>New lies brought by COVID19</td>\n",
              "      <td>June</td>\n",
              "      <td>0.136364</td>\n",
              "    </tr>\n",
              "  </tbody>\n",
              "</table>\n",
              "<p>881 rows × 3 columns</p>\n",
              "</div>"
            ],
            "text/plain": [
              "                                                Tweets Month    Rating\n",
              "0     trump supporters are so fucking dumb that eve...  June -0.087500\n",
              "1     It’s clear that  doesn’t have our backs in th...  June  0.100000\n",
              "2    This is literally the dumbest thing I have eve...  June  0.000000\n",
              "3     Explore COVID19 projections of hospital resou...  June  0.011111\n",
              "4     Trump’s Tulsa Rally requires no masks, no soc...  June -0.016667\n",
              "..                                                 ...   ...       ...\n",
              "876   This is an entire speech about all the ways t...  June  0.031250\n",
              "877   I can't believe people are still arguing abou...  June  0.000000\n",
              "878  \"TFL AND LONDON MAYORS INCREASE AND CHANGES TO...  June  0.000000\n",
              "879   This, obviously, is fake, and a recurring lie...  June -0.500000\n",
              "880                       New lies brought by COVID19   June  0.136364\n",
              "\n",
              "[881 rows x 3 columns]"
            ]
          },
          "metadata": {
            "tags": []
          },
          "execution_count": 44
        }
      ]
    },
    {
      "cell_type": "markdown",
      "metadata": {
        "id": "F3j5q3VXzO5b",
        "colab_type": "text"
      },
      "source": [
        "<h2 id=\"Convert\">Converting Dataframe to CSV</h2>\n",
        "\n",
        "Remove the row labels and the column labels for a properly formated Dataframe. Convert the newly edited final Dataframe into a csv file. "
      ]
    },
    {
      "cell_type": "code",
      "metadata": {
        "id": "054atVwtBqOi",
        "colab_type": "code",
        "colab": {
          "base_uri": "https://localhost:8080/",
          "height": 17
        },
        "outputId": "0cde16eb-6fde-4ac8-ff5b-983e95cde5d7"
      },
      "source": [
        "from google.colab import files\n",
        "df3.to_csv('test4.csv', index=False, header=False)\n",
        "files.download('test4.csv')"
      ],
      "execution_count": null,
      "outputs": [
        {
          "output_type": "display_data",
          "data": {
            "application/javascript": [
              "\n",
              "    async function download(id, filename, size) {\n",
              "      if (!google.colab.kernel.accessAllowed) {\n",
              "        return;\n",
              "      }\n",
              "      const div = document.createElement('div');\n",
              "      const label = document.createElement('label');\n",
              "      label.textContent = `Downloading \"${filename}\": `;\n",
              "      div.appendChild(label);\n",
              "      const progress = document.createElement('progress');\n",
              "      progress.max = size;\n",
              "      div.appendChild(progress);\n",
              "      document.body.appendChild(div);\n",
              "\n",
              "      const buffers = [];\n",
              "      let downloaded = 0;\n",
              "\n",
              "      const channel = await google.colab.kernel.comms.open(id);\n",
              "      // Send a message to notify the kernel that we're ready.\n",
              "      channel.send({})\n",
              "\n",
              "      for await (const message of channel.messages) {\n",
              "        // Send a message to notify the kernel that we're ready.\n",
              "        channel.send({})\n",
              "        if (message.buffers) {\n",
              "          for (const buffer of message.buffers) {\n",
              "            buffers.push(buffer);\n",
              "            downloaded += buffer.byteLength;\n",
              "            progress.value = downloaded;\n",
              "          }\n",
              "        }\n",
              "      }\n",
              "      const blob = new Blob(buffers, {type: 'application/binary'});\n",
              "      const a = document.createElement('a');\n",
              "      a.href = window.URL.createObjectURL(blob);\n",
              "      a.download = filename;\n",
              "      div.appendChild(a);\n",
              "      a.click();\n",
              "      div.remove();\n",
              "    }\n",
              "  "
            ],
            "text/plain": [
              "<IPython.core.display.Javascript object>"
            ]
          },
          "metadata": {
            "tags": []
          }
        },
        {
          "output_type": "display_data",
          "data": {
            "application/javascript": [
              "download(\"download_5d486744-ed15-4bda-a7c1-980778befce8\", \"test4.csv\", 121855)"
            ],
            "text/plain": [
              "<IPython.core.display.Javascript object>"
            ]
          },
          "metadata": {
            "tags": []
          }
        }
      ]
    }
  ]
}