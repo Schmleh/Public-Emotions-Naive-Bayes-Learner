{
  "nbformat": 4,
  "nbformat_minor": 0,
  "metadata": {
    "colab": {
      "name": "NLTK_sentiment_analyzer.ipynb",
      "provenance": [],
      "collapsed_sections": []
    },
    "kernelspec": {
      "name": "python3",
      "display_name": "Python 3"
    }
  },
  "cells": [
    {
      "cell_type": "markdown",
      "metadata": {
        "id": "ecTpuQe30YeK",
        "colab_type": "text"
      },
      "source": [
        "Imports Natural Language Toolkit to compare our AI's results to a preexisting sentiment analyzer"
      ]
    },
    {
      "cell_type": "code",
      "metadata": {
        "id": "Mdpe2E0IV1Td",
        "colab_type": "code",
        "colab": {
          "base_uri": "https://localhost:8080/",
          "height": 34
        },
        "outputId": "564f4465-84fb-4c78-d6cb-609535c91cbf"
      },
      "source": [
        "import nltk\n",
        "nltk.download('vader_lexicon')\n",
        "from nltk.sentiment.vader import SentimentIntensityAnalyzer\n"
      ],
      "execution_count": null,
      "outputs": [
        {
          "output_type": "stream",
          "text": [
            "[nltk_data] Downloading package vader_lexicon to /root/nltk_data...\n"
          ],
          "name": "stdout"
        }
      ]
    },
    {
      "cell_type": "markdown",
      "metadata": {
        "id": "5cTtAvp21yrf",
        "colab_type": "text"
      },
      "source": [
        "A strongly positive sentence with negative sentiments"
      ]
    },
    {
      "cell_type": "code",
      "metadata": {
        "id": "jX8FlcY0zQ5B",
        "colab_type": "code",
        "colab": {}
      },
      "source": [
        "sid = SentimentIntensityAnalyzer()\n",
        "sid.polarity_scores(\"Weather is so gorgeous but we still have Corona out here…\")"
      ],
      "execution_count": null,
      "outputs": []
    },
    {
      "cell_type": "markdown",
      "metadata": {
        "id": "BEwLe-Dp1-O3",
        "colab_type": "text"
      },
      "source": [
        "Very long positive example"
      ]
    },
    {
      "cell_type": "code",
      "metadata": {
        "id": "bLnQ0KT8zVQh",
        "colab_type": "code",
        "colab": {}
      },
      "source": [
        "sid = SentimentIntensityAnalyzer()\n",
        "sid.polarity_scores(\"To avoid Corona virus spread, home staying is must. We know, a positive thinking leads to happiness and sound health, so be positive about it.\")"
      ],
      "execution_count": null,
      "outputs": []
    },
    {
      "cell_type": "markdown",
      "metadata": {
        "id": "PHJP-Hwk2ERm",
        "colab_type": "text"
      },
      "source": [
        "A shorter positive example"
      ]
    },
    {
      "cell_type": "code",
      "metadata": {
        "id": "CjkwVZjDzWpj",
        "colab_type": "code",
        "colab": {}
      },
      "source": [
        "sid = SentimentIntensityAnalyzer()\n",
        "sid.polarity_scores(\"Working hard to stay healthy in these Corona times!\")"
      ],
      "execution_count": null,
      "outputs": []
    },
    {
      "cell_type": "markdown",
      "metadata": {
        "id": "wVIbQb4-1tsZ",
        "colab_type": "text"
      },
      "source": [
        "Simple negative example"
      ]
    },
    {
      "cell_type": "code",
      "metadata": {
        "id": "dai3RnvOzYaG",
        "colab_type": "code",
        "colab": {}
      },
      "source": [
        "sid = SentimentIntensityAnalyzer()\n",
        "sid.polarity_scores(\"Kill it with fire\")"
      ],
      "execution_count": null,
      "outputs": []
    },
    {
      "cell_type": "markdown",
      "metadata": {
        "id": "wbcpNIwk0rdS",
        "colab_type": "text"
      },
      "source": [
        "Simple example (generally positive sentence with negative words)"
      ]
    },
    {
      "cell_type": "code",
      "metadata": {
        "id": "tuFqiiuMzaB9",
        "colab_type": "code",
        "colab": {}
      },
      "source": [
        "sid = SentimentIntensityAnalyzer()\n",
        "sid.polarity_scores(\"Fight Corona Stay indoors\")"
      ],
      "execution_count": null,
      "outputs": []
    },
    {
      "cell_type": "markdown",
      "metadata": {
        "id": "QYcl99dJ2V22",
        "colab_type": "text"
      },
      "source": [
        "Example with figurative speech."
      ]
    },
    {
      "cell_type": "code",
      "metadata": {
        "id": "YhaCvgoNzdAQ",
        "colab_type": "code",
        "colab": {}
      },
      "source": [
        "sid = SentimentIntensityAnalyzer()\n",
        "sid.polarity_scores(\"I was ready for the roaring 20’s not the Great Depression\")"
      ],
      "execution_count": null,
      "outputs": []
    },
    {
      "cell_type": "markdown",
      "metadata": {
        "id": "3CKh3v_B2axX",
        "colab_type": "text"
      },
      "source": [
        "Long negative example."
      ]
    },
    {
      "cell_type": "code",
      "metadata": {
        "id": "pX5e9lcRzepd",
        "colab_type": "code",
        "colab": {}
      },
      "source": [
        "sid = SentimentIntensityAnalyzer()\n",
        "sid.polarity_scores(\"Dear God, We all now struggle badly. We have lost our near and dear sadly. We are attacked by Corona madly. If you kill it, we will pray to you gladly!\")"
      ],
      "execution_count": null,
      "outputs": []
    },
    {
      "cell_type": "markdown",
      "metadata": {
        "id": "dXCfj_Mdz_Eh",
        "colab_type": "text"
      },
      "source": [
        "Example with profanity."
      ]
    },
    {
      "cell_type": "code",
      "metadata": {
        "id": "HBPk6nmLzger",
        "colab_type": "code",
        "colab": {}
      },
      "source": [
        "sid = SentimentIntensityAnalyzer()\n",
        "sid.polarity_scores(\"Fuck corona I miss my friends\")"
      ],
      "execution_count": null,
      "outputs": []
    },
    {
      "cell_type": "markdown",
      "metadata": {
        "id": "NsO9exK92iJo",
        "colab_type": "text"
      },
      "source": [
        "Strongly negative example"
      ]
    },
    {
      "cell_type": "code",
      "metadata": {
        "id": "BEeLKVS_Bj0l",
        "colab_type": "code",
        "colab": {
          "base_uri": "https://localhost:8080/",
          "height": 34
        },
        "outputId": "52e92ea4-db6d-4bf8-b1e3-41378e0bf12d"
      },
      "source": [
        "sid = SentimentIntensityAnalyzer()\n",
        "sid.polarity_scores(\"corona is destroying everything and I’m so sad\")"
      ],
      "execution_count": null,
      "outputs": [
        {
          "output_type": "execute_result",
          "data": {
            "text/plain": [
              "{'compound': -0.822, 'neg': 0.559, 'neu': 0.441, 'pos': 0.0}"
            ]
          },
          "metadata": {
            "tags": []
          },
          "execution_count": 14
        }
      ]
    }
  ]
}