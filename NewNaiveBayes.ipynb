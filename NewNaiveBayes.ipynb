{
  "nbformat": 4,
  "nbformat_minor": 0,
  "metadata": {
    "kernelspec": {
      "display_name": "Python 3 (system-wide)",
      "language": "python",
      "metadata": {
        "cocalc": {
          "description": "Python 3 programming language",
          "priority": 100,
          "url": "https://www.python.org/"
        }
      },
      "name": "python3"
    },
    "language_info": {
      "codemirror_mode": {
        "name": "ipython",
        "version": 3
      },
      "file_extension": ".py",
      "mimetype": "text/x-python",
      "name": "python",
      "nbconvert_exporter": "python",
      "pygments_lexer": "ipython3",
      "version": "3.6.9"
    },
    "colab": {
      "name": "NewNaiveBayes.ipynb",
      "provenance": [],
      "collapsed_sections": []
    }
  },
  "cells": [
    {
      "cell_type": "markdown",
      "metadata": {
        "id": "FbElKL0s3V78",
        "colab_type": "text"
      },
      "source": [
        "<h1>AI in Fact and Fiction - Summer 2020</h1>\n",
        "<h2>Public Emotions - AI Model</h2>\n",
        "\n",
        "\n",
        "<hr>"
      ]
    },
    {
      "cell_type": "markdown",
      "metadata": {
        "id": "dyR6rSmiykB4",
        "colab_type": "text"
      },
      "source": [
        "<h3>First import the libraries we need:</h3>\n",
        "\n",
        "We'll use csv for reading csv's and re is to help us substitute characters. We'll need the log function to calculate weights, and pyplot and numpy to create visual representations."
      ]
    },
    {
      "cell_type": "code",
      "metadata": {
        "id": "quQQ1WRzIh1z",
        "colab_type": "code",
        "colab": {}
      },
      "source": [
        "import csv\n",
        "import re \n",
        "from math import log\n",
        "import matplotlib.pyplot as plt\n",
        "import numpy as np"
      ],
      "execution_count": 1,
      "outputs": []
    },
    {
      "cell_type": "markdown",
      "metadata": {
        "id": "wgSEoLoDxz8e",
        "colab_type": "text"
      },
      "source": [
        "Next up is a long block, containing the entire class for our model.\n",
        "\n",
        "<h2>Initialization:</h2>\n",
        "\n",
        "model = NaiveSentiment()\n",
        "\n",
        "<h2>Important functions:</h2>\n",
        "\n",
        " .trainCSV(csvfilename, printboolean=False)\n",
        "    this function will take in the name of a csvfile, and train the data with it.\n",
        "    The csv should have each line is in the format: string,string,float.\n",
        "    The first string is the text to train the model with.\n",
        "    The second string is a tag that can be associated with the text.\n",
        "    The float is a sentiment rating of the text.\n",
        "    If printboolean is True, a few statistics will be printed out during the training.\n",
        "\n",
        " .analyze(text, printboolean=False)\n",
        "    The model will provide a shallow sentiment rating of text.\n",
        "    If printboolean is True, a few statistics will be printed for each word in the text.\n",
        "\n",
        " .advancedanalyze(text, printboolean=False)\n",
        "    The model will provide a deeper sentiment rating of text.\n",
        "    If printboolean is True, a few statistics will be printed for each word in the text.\n",
        "\n",
        " .predicttags(text, printboolean=False)\n",
        "    The model will provide a analysis of which tags are associated with the text.\n",
        "    If printboolean is True, a few statistics will be printed for each associated tag."
      ]
    },
    {
      "cell_type": "code",
      "metadata": {
        "id": "A1pCC-roIh14",
        "colab_type": "code",
        "colab": {}
      },
      "source": [
        "class NaiveSentiment:\n",
        "    def __init__(self):\n",
        "        self.model = {}\n",
        "        self.model2 = {}\n",
        "        self.modeltags = {}\n",
        "        self.modeldocs = {}\n",
        "        self.docs = 0\n",
        "\n",
        "    def make_tokens(self, sentence):\n",
        "        sentence = sentence.upper()\n",
        "        sentence = re.sub('\\n', ' ', sentence)\n",
        "        for char in sentence:\n",
        "            if not char.isalpha() and char != \" \":\n",
        "                if (char == \"'\"):\n",
        "                    sentence = sentence.replace(char, \"\")\n",
        "                else:\n",
        "                    sentence = sentence.replace(char, \" \")\n",
        "        sentence = sentence.split(\" \")\n",
        "        return list(filter(None, sentence))\n",
        "\n",
        "    def trainCSV(self, icsv_file, printbool=False):\n",
        "        with open(icsv_file, newline='\\n') as csv_file:\n",
        "            csv_reader = csv.reader(csv_file, delimiter=',')\n",
        "            for line in csv_reader:\n",
        "                self.docs += 1\n",
        "                words = self.make_tokens(line[0])\n",
        "                if printbool:\n",
        "                    print(str(words) + \" \" + str(float(line[2])))\n",
        "                for token in words:\n",
        "                    if token not in self.model:\n",
        "                        self.model[token] = []\n",
        "                    self.model[token].append(float(line[2]))\n",
        "                    if token not in self.modeltags:\n",
        "                        self.modeltags[token] = {}\n",
        "                    if line[1] not in self.modeltags[token]:\n",
        "                        self.modeltags[token][line[1]] = 0\n",
        "                    self.modeltags[token][line[1]] += 1\n",
        "                    if token not in self.modeldocs:\n",
        "                        self.modeldocs[token] = 0\n",
        "                    self.modeldocs[token] += 1\n",
        "                    if token not in self.model2:\n",
        "                        self.model2[token] = {}\n",
        "                    for token2 in words:\n",
        "                        if not token == token2:\n",
        "                            if token2 not in self.model2[token]:\n",
        "                                self.model2[token][token2] = []\n",
        "                            self.model2[token][token2].append(float(line[2]))\n",
        "\n",
        "    def train(self, input):\n",
        "        for line in input:\n",
        "            words = self.make_tokens(line)\n",
        "            for token in words:\n",
        "                if token not in self.model:\n",
        "                    self.model[token] = []\n",
        "                self.model[token].append(input[line])\n",
        "\n",
        "    def trainadvanced(self, input):\n",
        "        for line in input:\n",
        "            self.docs += 1\n",
        "            words = self.make_tokens(line)\n",
        "            for token in words:\n",
        "                if token not in self.model:\n",
        "                    self.model[token] = []\n",
        "                self.model[token].append(input[line])\n",
        "                if token not in self.modeldocs:\n",
        "                    self.modeldocs[token] = 0\n",
        "                self.modeldocs[token] += 1\n",
        "                if token not in self.model2:\n",
        "                    self.model2[token] = {}\n",
        "                for token2 in words:\n",
        "                    if not token == token2:\n",
        "                        if token2 not in self.model2[token]:\n",
        "                            self.model2[token][token2] = []\n",
        "                        self.model2[token][token2].append(input[line])\n",
        "\n",
        "    def value(self, word):\n",
        "        if word not in self.model:\n",
        "            return 0, self.trainedweight(word)\n",
        "        else:\n",
        "            v = sum(self.model[word]) / len(self.model[word])\n",
        "            return v, self.trainedweight(word, v)\n",
        "\n",
        "    def trainedweight(self, word, value = None):\n",
        "        if word not in self.modeldocs:\n",
        "            return 1\n",
        "        else:\n",
        "            w = log(self.docs / self.modeldocs[word])\n",
        "            if w < 0:\n",
        "                w = 0\n",
        "            if value != None:\n",
        "                w = w * value\n",
        "            return abs(w)\n",
        "\n",
        "    def advancedvalue(self, word, tokens, veryadvanced = False):\n",
        "        if veryadvanced:\n",
        "            print(\"    \" + word)\n",
        "        if word in self.model2:\n",
        "            if word not in self.model:\n",
        "                advancedvalue = 0\n",
        "                if veryadvanced:\n",
        "                    print(\"        \" + word + \": 0\")\n",
        "            else:\n",
        "                if veryadvanced:\n",
        "                    print(\"        \" + word + \": \" + str(sum(self.model[word]) / len(self.model[word])))\n",
        "                advancedvalue = sum(self.model[word]) / len(self.model[word])\n",
        "            nums = 1\n",
        "            for word2 in self.model2[word]:\n",
        "                if word2 in tokens:\n",
        "                    if veryadvanced:\n",
        "                        print(\"        \" + word + \", \" + word2 + \": \" + str(sum(self.model2[word][word2]) / len(self.model2[word][word2])))\n",
        "                    advancedvalue += (sum(self.model2[word][word2]) / len(self.model2[word][word2]))\n",
        "                    nums += 1\n",
        "            v = advancedvalue / nums\n",
        "            w = self.trainedweight(word, v)\n",
        "            if veryadvanced:\n",
        "                print(\"    Word value in this context: \" + str(v))\n",
        "                print(\"    Word weight in this context: \" + str(w))\n",
        "            return v, w\n",
        "        else:\n",
        "            if word not in self.model:\n",
        "                if veryadvanced:\n",
        "                    print(\"        \" + word + \": 0\")\n",
        "                return 0, self.trainedweight(word, 0)\n",
        "            else:\n",
        "                v = sum(self.model[word]) / len(self.model[word])\n",
        "                w = self.trainedweight(word, v)\n",
        "                if veryadvanced:\n",
        "                    print(word + \" \" + str(self.model[word]))\n",
        "                    print(\"        \" + word + \": \" + str(v))\n",
        "                    print(\"    Word weight in context: \" + str(w))\n",
        "                return v, self.trainedweight(word, v)\n",
        "\n",
        "    def analyze(self, text, weighted=True):\n",
        "        sentiment = [];\n",
        "        weights = [];\n",
        "        text = self.make_tokens(text)\n",
        "        for word in text:\n",
        "                t = self.value(word)\n",
        "                sentiment.append(t[0])\n",
        "                print(\"    \" + word + \" \" + str(t[0]))\n",
        "                if weighted:\n",
        "                    weights.append(t[1])\n",
        "                    print(\"    weight: \" + str(t[1]))\n",
        "        value = 0\n",
        "        for i in range(len(sentiment)):\n",
        "            value += sentiment[i] * weights[i]\n",
        "        value = value / sum(weights)\n",
        "        return value\n",
        "\n",
        "    def advancedanalyze(self, text, printbool = False):\n",
        "        plt.rcParams[\"figure.figsize\"] = (15,5)\n",
        "        sentiment = [];\n",
        "        weights = [];\n",
        "        text = self.make_tokens(text)\n",
        "        data_word = []\n",
        "        for word in text:\n",
        "            t = self.advancedvalue(word, text, printbool)\n",
        "            sentiment.append(t[0])\n",
        "            weights.append(t[1])\n",
        "            data_word.append(word)\n",
        "        value = 0\n",
        "        \n",
        "        data_value = []\n",
        "        for i in range(len(sentiment)):\n",
        "            value += sentiment[i] * weights[i]\n",
        "            data_value.append(sentiment[i] * weights[i] / sum(weights))      \n",
        "        \n",
        "\n",
        "        plt.title('Sentiment of Text')\n",
        "        plt.xlabel('Words')\n",
        "        plt.ylabel('Sentiment')\n",
        "        \n",
        "        plt.scatter(data_word, data_value, c=data_value)\n",
        "        plt.colorbar()\n",
        "\n",
        "        plt.show()\n",
        "        value = value / sum(weights)\n",
        "        return value\n",
        "\n",
        "    def predicttags(self, text, printbool = False):\n",
        "        tags = {}\n",
        "        text = self.make_tokens(text)\n",
        "        for word in text:\n",
        "            if word not in self.modeltags:\n",
        "                continue\n",
        "            for tag in self.modeltags[word]:\n",
        "                if tag not in tags:\n",
        "                    tags[tag] = [0, []]\n",
        "                tags[tag][0] += self.modeltags[word][tag]\n",
        "                tags[tag][1].append(word)\n",
        "        maxval = 0\n",
        "        maxtag = None\n",
        "        if not printbool:\n",
        "            normalizer = 0\n",
        "            for vals in tags.values():\n",
        "                normalizer += vals[0]\n",
        "            if normalizer == 0:\n",
        "                normalizer = 1\n",
        "        for tag in tags.keys():\n",
        "            if printbool:\n",
        "                print(\"    Tag: \" + tag + \" - \" + str(tags[tag][0]))\n",
        "                for word in tags[tag][1]:\n",
        "                    print(\"        \" + word)\n",
        "            else:\n",
        "                print(\"    Tag: \" + tag + \" - \" + str(round(tags[tag][0] / normalizer * 100, 2)) + \"%\")\n",
        "            if tags[tag][0] > maxval:\n",
        "                maxval = tags[tag][0]\n",
        "                maxtag = tag\n",
        "        print(\"Most likely tag: \" + maxtag)"
      ],
      "execution_count": 2,
      "outputs": []
    },
    {
      "cell_type": "markdown",
      "metadata": {
        "id": "N5qKNF83z37o",
        "colab_type": "text"
      },
      "source": [
        "<h2>With the class created, we can now test it.</h2>\n",
        "\n",
        "First, we'll need some data to train it with, most of which we have gathered from twitter."
      ]
    },
    {
      "cell_type": "markdown",
      "metadata": {
        "id": "jqzEZDixzKxH",
        "colab_type": "text"
      },
      "source": [
        "\n",
        "Here is an example training set in the form of a dictionary, with a special train function that we wrote for it.\n"
      ]
    },
    {
      "cell_type": "code",
      "metadata": {
        "id": "ZpkNn6mtIh19",
        "colab_type": "code",
        "colab": {}
      },
      "source": [
        "trainingset = {\"hello, my friend, you are very strong!!\":1,\n",
        "               \"you are a handsome man\":1,\n",
        "               \"sometimes i like to drink milk\":0.3,\n",
        "               \"my friend is sometimes handsome\":0.2,\n",
        "               \"I hate coronavirus\":-0.8,\n",
        "               \"masks are really stupid\":-0.7,\n",
        "               \"coronavirus is bad, even worse than masks\":-1,\n",
        "               \"you are handsome, coronavirus is not handsome\":0,\n",
        "               \"milk is preventitive of coronavirus\":0.5,\n",
        "               \"my friend is pretty strong\":0.4,\n",
        "               \"my friend is literally coronavirus incarnate\":-0.8,\n",
        "               \"masks makes me hate coronavirus more than i do now\":-0.9,\n",
        "               \"hate worse awful coronavirus\":-1,\n",
        "               \"this coronavirus thing is really strong\":-0.5,\n",
        "               \"milk is good for you\":0.1,\n",
        "               \"my friend is a good person\":0.8,\n",
        "               \"my friend is really stupid\":-0.5,\n",
        "               \"masks are good for you\":0.6,\n",
        "               \"my friend is good at drinking milk\":0.7,\n",
        "               \"coronavirus is too goddamn strong, i hate it\":-1,\n",
        "               \"worse than masks are coronavirus, I hate it!\":-1,\n",
        "               \"coronavirus is hate awful\":-1,\n",
        "               \"milk tastes so handsome, you know?\":0.7,\n",
        "               \"i think people hate masks more than coronavirus sometimes\":-0.7,\n",
        "               \"bad is so bad\": -0.6,\n",
        "               \"good things are good\": 0.6,\n",
        "               \"good is so good\": 0.9,\n",
        "               \"i like good things\": 0.8,\n",
        "               \"being strong is good\": 0.7,\n",
        "               \"i like being strong\": 0.7,\n",
        "               \"i am a big fan of milk\": 0.8,\n",
        "               \"i like handsome person\": 0.4,\n",
        "               \"i hate certain things\": -0.7,\n",
        "               \"I really like my friends\": 0.9}"
      ],
      "execution_count": 3,
      "outputs": []
    },
    {
      "cell_type": "markdown",
      "metadata": {
        "id": "AxLcV7CWzUwv",
        "colab_type": "text"
      },
      "source": [
        "Here is an example use of our model, starting with the initialization, and the training using a few csv files that we had prepared in advance.\n",
        "We also train it with the example training set that we made by hand, though only to offset a few strangely skewed values that we know."
      ]
    },
    {
      "cell_type": "code",
      "metadata": {
        "id": "q-2LUGgsIh2C",
        "colab_type": "code",
        "colab": {}
      },
      "source": [
        "model = NaiveSentiment()\n",
        "#model.trainCSV(\"test1.csv\")# somewhat skewed\n",
        "model.trainCSV(\"test2.csv\") # slightly skewed\n",
        "model.trainCSV(\"test3.csv\") # mostly unskewed\n",
        "model.trainCSV(\"test4.csv\") # mostly unskewed\n",
        "model.trainadvanced(trainingset)"
      ],
      "execution_count": 4,
      "outputs": []
    },
    {
      "cell_type": "markdown",
      "metadata": {
        "id": "eBOUR5ajznrK",
        "colab_type": "text"
      },
      "source": [
        "<h2>Test cases</h2>\n",
        "\n",
        "Ahead are a several examples of advancedanalyze, using the model we just trained."
      ]
    },
    {
      "cell_type": "code",
      "metadata": {
        "scrolled": true,
        "id": "-f_5-ASBIh2K",
        "colab_type": "code",
        "colab": {
          "base_uri": "https://localhost:8080/",
          "height": 1000
        },
        "outputId": "2826a41b-835a-4962-c216-375366f91c61"
      },
      "source": [
        "str1 = \"people hate masks more than coronavirus\"\n",
        "print(\"sentence: \", str1)\n",
        "analyze1 = model.advancedanalyze(str1, True)\n",
        "print(\"Overall sentence sentiment: \", analyze1)"
      ],
      "execution_count": 5,
      "outputs": [
        {
          "output_type": "stream",
          "text": [
            "sentence:  people hate masks more than coronavirus\n",
            "    PEOPLE\n",
            "        PEOPLE: 0.03559130908078276\n",
            "        PEOPLE, CORONAVIRUS: -0.00022806057288817105\n",
            "        PEOPLE, MORE: 0.19294126157407412\n",
            "        PEOPLE, THAN: 0.019745370370370385\n",
            "        PEOPLE, MASKS: -0.011805555555555555\n",
            "        PEOPLE, HATE: -0.7\n",
            "    Word value in this context: -0.07729261251720274\n",
            "    Word weight in this context: 0.20354254142181327\n",
            "    HATE\n",
            "        HATE: -0.5555555555555555\n",
            "        HATE, CORONAVIRUS: -0.9142857142857144\n",
            "        HATE, MASKS: -0.8666666666666666\n",
            "        HATE, MORE: -0.8\n",
            "        HATE, THAN: -0.8666666666666666\n",
            "        HATE, PEOPLE: -0.7\n",
            "    Word value in this context: -0.7838624338624339\n",
            "    Word weight in this context: 3.5936874667109935\n",
            "    MASKS\n",
            "        MASKS: -0.013866213151927449\n",
            "        MASKS, PEOPLE: -0.011805555555555555\n",
            "        MASKS, CORONAVIRUS: -0.36851851851851847\n",
            "        MASKS, THAN: -0.6827777777777777\n",
            "        MASKS, HATE: -0.8666666666666666\n",
            "        MASKS, MORE: -0.8\n",
            "    Word value in this context: -0.4572724552784077\n",
            "    Word weight in this context: 1.8238796798758414\n",
            "    MORE\n",
            "        MORE: 0.2408482043594073\n",
            "        MORE, CORONAVIRUS: 0.17081119353254767\n",
            "        MORE, PEOPLE: 0.19294126157407412\n",
            "        MORE, THAN: 0.11677908230938533\n",
            "        MORE, MASKS: -0.8\n",
            "        MORE, HATE: -0.8\n",
            "    Word value in this context: -0.1464367097040976\n",
            "    Word weight in this context: 0.4710850280764406\n",
            "    THAN\n",
            "        THAN: 0.03145577992096978\n",
            "        THAN, MORE: 0.11677908230938533\n",
            "        THAN, CORONAVIRUS: -0.19349519500561163\n",
            "        THAN, PEOPLE: 0.019745370370370385\n",
            "        THAN, MASKS: -0.6827777777777777\n",
            "        THAN, HATE: -0.8666666666666666\n",
            "    Word value in this context: -0.2624932344748884\n",
            "    Word weight in this context: 0.9216081004910092\n",
            "    CORONAVIRUS\n",
            "        CORONAVIRUS: -0.00865548439493643\n",
            "        CORONAVIRUS, PEOPLE: -0.00022806057288817105\n",
            "        CORONAVIRUS, MORE: 0.17081119353254767\n",
            "        CORONAVIRUS, THAN: -0.19349519500561163\n",
            "        CORONAVIRUS, MASKS: -0.36851851851851847\n",
            "        CORONAVIRUS, HATE: -0.9142857142857144\n",
            "    Word value in this context: -0.21906196320752022\n",
            "    Word weight in this context: 0.5613038594682753\n"
          ],
          "name": "stdout"
        },
        {
          "output_type": "display_data",
          "data": {
            "image/png": "[encoded data removed]",
            "text/plain": [
              "<Figure size 1080x360 with 2 Axes>"
            ]
          },
          "metadata": {
            "tags": [],
            "needs_background": "light"
          }
        },
        {
          "output_type": "stream",
          "text": [
            "Overall sentence sentiment:  -0.5413203287853853\n"
          ],
          "name": "stdout"
        }
      ]
    },
    {
      "cell_type": "code",
      "metadata": {
        "scrolled": true,
        "id": "VcxK2YrcIh2M",
        "colab_type": "code",
        "colab": {
          "base_uri": "https://localhost:8080/",
          "height": 873
        },
        "outputId": "bf1468ae-755c-4d10-9044-524d29f8d79e"
      },
      "source": [
        "str2 = \"corona is so bad\"\n",
        "print(str2)\n",
        "analyze2 = model.advancedanalyze(str2, True)\n",
        "print(\"Overall sentence sentiment: \", analyze2)"
      ],
      "execution_count": 6,
      "outputs": [
        {
          "output_type": "stream",
          "text": [
            "corona is so bad\n",
            "    CORONA\n",
            "        CORONA: 0.006660010737694912\n",
            "        CORONA, IS: -0.034356962481962475\n",
            "        CORONA, BAD: -0.4416666666666666\n",
            "        CORONA, SO: 0.2802348976780796\n",
            "    Word value in this context: -0.047282180183213646\n",
            "    Word weight in this context: 0.0672394239341218\n",
            "    IS\n",
            "        IS: 0.047481246541864926\n",
            "        IS, CORONA: -0.034356962481962475\n",
            "        IS, SO: 0.06520079495915529\n",
            "        IS, BAD: -0.5231687242798353\n",
            "    Word value in this context: -0.1112109113151944\n",
            "    Word weight in this context: 0.1588511512278126\n",
            "    SO\n",
            "        SO: 0.10830228621884569\n",
            "        SO, CORONA: 0.2802348976780796\n",
            "        SO, IS: 0.06520079495915529\n",
            "        SO, BAD: -0.597037037037037\n",
            "    Word value in this context: -0.03582476454523911\n",
            "    Word weight in this context: 0.09896349502655372\n",
            "    BAD\n",
            "        BAD: -0.4940760030864197\n",
            "        BAD, CORONA: -0.4416666666666666\n",
            "        BAD, SO: -0.597037037037037\n",
            "        BAD, IS: -0.5231687242798353\n",
            "    Word value in this context: -0.5139871077674897\n",
            "    Word weight in this context: 2.416958848087649\n"
          ],
          "name": "stdout"
        },
        {
          "output_type": "display_data",
          "data": {
            "image/png": "[encoded data removed]",
            "text/plain": [
              "<Figure size 1080x360 with 2 Axes>"
            ]
          },
          "metadata": {
            "tags": [],
            "needs_background": "light"
          }
        },
        {
          "output_type": "stream",
          "text": [
            "Overall sentence sentiment:  -0.4619512297831319\n"
          ],
          "name": "stdout"
        }
      ]
    },
    {
      "cell_type": "code",
      "metadata": {
        "scrolled": true,
        "id": "lCC4mxbCIh2P",
        "colab_type": "code",
        "colab": {
          "base_uri": "https://localhost:8080/",
          "height": 995
        },
        "outputId": "6500c986-4496-4e17-9bd0-145bd09d6ac6"
      },
      "source": [
        "str3 = \"stay home, and stay safe!\"\n",
        "print(str3)\n",
        "analyze3 = model.advancedanalyze(str3, True)\n",
        "print(\"Overall sentence sentiment: \", analyze3)"
      ],
      "execution_count": 7,
      "outputs": [
        {
          "output_type": "stream",
          "text": [
            "stay home, and stay safe!\n",
            "    STAY\n",
            "        STAY: 0.3318991960420533\n",
            "        STAY, AND: 0.37341991341991365\n",
            "        STAY, HOME: 0.42956228956228976\n",
            "        STAY, SAFE: 0.47523191094619666\n",
            "    Word value in this context: 0.40252832749261336\n",
            "    Word weight in this context: 1.7409665274513102\n",
            "    HOME\n",
            "        HOME: 0.11730687355434592\n",
            "        HOME, STAY: 0.42956228956228976\n",
            "        HOME, SAFE: 0.5\n",
            "        HOME, AND: 0.17630172448834422\n",
            "    Word value in this context: 0.305792721901245\n",
            "    Word weight in this context: 1.0512466013832906\n",
            "    AND\n",
            "        AND: 0.08958373831618814\n",
            "        AND, STAY: 0.37341991341991365\n",
            "        AND, HOME: 0.17630172448834422\n",
            "        AND, SAFE: 0.38152022874245095\n",
            "    Word value in this context: 0.2552064012417242\n",
            "    Word weight in this context: 0.322673061298932\n",
            "    STAY\n",
            "        STAY: 0.3318991960420533\n",
            "        STAY, AND: 0.37341991341991365\n",
            "        STAY, HOME: 0.42956228956228976\n",
            "        STAY, SAFE: 0.47523191094619666\n",
            "    Word value in this context: 0.40252832749261336\n",
            "    Word weight in this context: 1.7409665274513102\n",
            "    SAFE\n",
            "        SAFE: 0.42341129549462886\n",
            "        SAFE, STAY: 0.47523191094619666\n",
            "        SAFE, HOME: 0.5\n",
            "        SAFE, AND: 0.38152022874245095\n",
            "    Word value in this context: 0.4450408587958191\n",
            "    Word weight in this context: 2.3019187207803684\n"
          ],
          "name": "stdout"
        },
        {
          "output_type": "display_data",
          "data": {
            "image/png": "[encoded data removed]",
            "text/plain": [
              "<Figure size 1080x360 with 2 Axes>"
            ]
          },
          "metadata": {
            "tags": [],
            "needs_background": "light"
          }
        },
        {
          "output_type": "stream",
          "text": [
            "Overall sentence sentiment:  0.39535159625465244\n"
          ],
          "name": "stdout"
        }
      ]
    },
    {
      "cell_type": "code",
      "metadata": {
        "scrolled": true,
        "id": "9REaB9G0Ih2R",
        "colab_type": "code",
        "colab": {
          "base_uri": "https://localhost:8080/",
          "height": 873
        },
        "outputId": "1f868990-e18b-48bb-f1f5-09d090fb2e4e"
      },
      "source": [
        "str4 = \"I want my stimulus check\"\n",
        "print(str4)\n",
        "analyze4 = model.advancedanalyze(str4, True)\n",
        "print(\"Overall sentence sentiment: \", analyze4)"
      ],
      "execution_count": 8,
      "outputs": [
        {
          "output_type": "stream",
          "text": [
            "I want my stimulus check\n",
            "    I\n",
            "        I: 0.06113383453605594\n",
            "        I, WANT: 0.372718253968254\n",
            "        I, MY: 0.07940658644448541\n",
            "        I, CHECK: -0.25\n",
            "    Word value in this context: 0.06581466873719882\n",
            "    Word weight in this context: 0.10420548546411969\n",
            "    WANT\n",
            "        WANT: 0.29505333255333255\n",
            "        WANT, I: 0.372718253968254\n",
            "        WANT, CHECK: 0.0\n",
            "        WANT, MY: 0.04375\n",
            "    Word value in this context: 0.17788039663039662\n",
            "    Word weight in this context: 0.6361645578371559\n",
            "    MY\n",
            "        MY: 0.06531665152463471\n",
            "        MY, I: 0.07940658644448541\n",
            "        MY, WANT: 0.04375\n",
            "    Word value in this context: 0.06282441265637338\n",
            "    Word weight in this context: 0.15594675541558703\n",
            "    STIMULUS\n",
            "        STIMULUS: 0\n",
            "    CHECK\n",
            "        CHECK: 0.011529839208410636\n",
            "        CHECK, I: -0.25\n",
            "        CHECK, WANT: 0.0\n",
            "    Word value in this context: -0.07949005359719645\n",
            "    Word weight in this context: 0.4166367038993707\n"
          ],
          "name": "stdout"
        },
        {
          "output_type": "display_data",
          "data": {
            "image/png": "[encoded data removed]",
            "text/plain": [
              "<Figure size 1080x360 with 2 Axes>"
            ]
          },
          "metadata": {
            "tags": [],
            "needs_background": "light"
          }
        },
        {
          "output_type": "stream",
          "text": [
            "Overall sentence sentiment:  0.041807257542552316\n"
          ],
          "name": "stdout"
        }
      ]
    },
    {
      "cell_type": "code",
      "metadata": {
        "scrolled": true,
        "id": "L5xPpNH9Ih2U",
        "colab_type": "code",
        "colab": {
          "base_uri": "https://localhost:8080/",
          "height": 1000
        },
        "outputId": "fc487cfc-c539-4591-d8b6-64979783304e"
      },
      "source": [
        "str5 = \"Weather is so gorgeous but we still have Corona out here...\"\n",
        "print(str5)\n",
        "analyze5 = model.advancedanalyze(str5, True)\n",
        "print(\"Overall sentence sentiment: \", analyze5)"
      ],
      "execution_count": 9,
      "outputs": [
        {
          "output_type": "stream",
          "text": [
            "Weather is so gorgeous but we still have Corona out here...\n",
            "    WEATHER\n",
            "        WEATHER: -0.05\n",
            "        WEATHER, IS: 0.7\n",
            "        WEATHER, SO: 0.7\n",
            "        WEATHER, GORGEOUS: 0.7\n",
            "        WEATHER, BUT: 0.7\n",
            "        WEATHER, WE: 0.7\n",
            "        WEATHER, STILL: 0.7\n",
            "        WEATHER, HAVE: 0.7\n",
            "        WEATHER, CORONA: 0.7\n",
            "        WEATHER, OUT: 0.7\n",
            "        WEATHER, HERE: 0.7\n",
            "    Word value in this context: 0.631818181818182\n",
            "    Word weight in this context: 4.103110662095359\n",
            "    IS\n",
            "        IS: 0.047481246541864926\n",
            "        IS, OUT: 0.10035818713450291\n",
            "        IS, CORONA: -0.034356962481962475\n",
            "        IS, WE: -0.019080372889896693\n",
            "        IS, HAVE: 0.11014734934377793\n",
            "        IS, SO: 0.06520079495915529\n",
            "        IS, WEATHER: 0.7\n",
            "        IS, GORGEOUS: 0.7\n",
            "        IS, BUT: 0.1195889227370709\n",
            "        IS, STILL: 0.14268849206349207\n",
            "        IS, HERE: 0.03293613215488215\n",
            "    Word value in this context: 0.17863307177844429\n",
            "    Word weight in this context: 0.25515544080870617\n",
            "    SO\n",
            "        SO: 0.10830228621884569\n",
            "        SO, CORONA: 0.2802348976780796\n",
            "        SO, IS: 0.06520079495915529\n",
            "        SO, WEATHER: 0.7\n",
            "        SO, GORGEOUS: 0.7\n",
            "        SO, BUT: 0.17120039682539684\n",
            "        SO, WE: 0.29061347167325435\n",
            "        SO, STILL: 0.16382406655844156\n",
            "        SO, HAVE: 0.1849578373015873\n",
            "        SO, OUT: 0.1462023294166151\n",
            "        SO, HERE: 0.19814814814814816\n",
            "    Word value in this context: 0.2735167480708658\n",
            "    Word weight in this context: 0.7555715628837947\n",
            "    GORGEOUS\n",
            "        GORGEOUS: 0.7\n",
            "        GORGEOUS, WEATHER: 0.7\n",
            "        GORGEOUS, IS: 0.7\n",
            "        GORGEOUS, SO: 0.7\n",
            "        GORGEOUS, BUT: 0.7\n",
            "        GORGEOUS, WE: 0.7\n",
            "        GORGEOUS, STILL: 0.7\n",
            "        GORGEOUS, HAVE: 0.7\n",
            "        GORGEOUS, CORONA: 0.7\n",
            "        GORGEOUS, OUT: 0.7\n",
            "        GORGEOUS, HERE: 0.7\n",
            "    Word value in this context: 0.7000000000000001\n",
            "    Word weight in this context: 5.516298441004681\n",
            "    BUT\n",
            "        BUT: 0.10851975313688442\n",
            "        BUT, CORONA: 0.1496420027341079\n",
            "        BUT, WEATHER: 0.7\n",
            "        BUT, IS: 0.1195889227370709\n",
            "        BUT, SO: 0.17120039682539684\n",
            "        BUT, GORGEOUS: 0.7\n",
            "        BUT, WE: 0.18219449855699857\n",
            "        BUT, STILL: 0.12898448773448773\n",
            "        BUT, HAVE: 0.1304345238095238\n",
            "        BUT, OUT: 0.22820105820105818\n",
            "        BUT, HERE: 0.3035037878787878\n",
            "    Word value in this context: 0.2656608574194833\n",
            "    Word weight in this context: 0.7826242434662135\n",
            "    WE\n",
            "        WE: 0.03130833403070864\n",
            "        WE, HAVE: 0.003344409496753242\n",
            "        WE, CORONA: 0.02972539731957541\n",
            "        WE, IS: -0.019080372889896693\n",
            "        WE, WEATHER: 0.7\n",
            "        WE, SO: 0.29061347167325435\n",
            "        WE, GORGEOUS: 0.7\n",
            "        WE, BUT: 0.18219449855699857\n",
            "        WE, STILL: -0.07187500000000001\n",
            "        WE, OUT: 0.06341089466089465\n",
            "        WE, HERE: -0.07856105699855702\n",
            "    Word value in this context: 0.16646187053179373\n",
            "    Word weight in this context: 0.3521060149161181\n",
            "    STILL\n",
            "        STILL: 0.03051995024651274\n",
            "        STILL, WEATHER: 0.7\n",
            "        STILL, IS: 0.14268849206349207\n",
            "        STILL, SO: 0.16382406655844156\n",
            "        STILL, GORGEOUS: 0.7\n",
            "        STILL, BUT: 0.12898448773448773\n",
            "        STILL, WE: -0.07187500000000001\n",
            "        STILL, HAVE: -0.00890151515151516\n",
            "        STILL, CORONA: 0.045\n",
            "        STILL, OUT: -0.037500000000000006\n",
            "        STILL, HERE: 0.45625\n",
            "    Word value in this context: 0.20445368013194717\n",
            "    Word weight in this context: 0.8197008738886957\n",
            "    HAVE\n",
            "        HAVE: 0.04181839673794219\n",
            "        HAVE, WE: 0.003344409496753242\n",
            "        HAVE, CORONA: 0.05474837662337662\n",
            "        HAVE, IS: 0.11014734934377793\n",
            "        HAVE, WEATHER: 0.7\n",
            "        HAVE, SO: 0.1849578373015873\n",
            "        HAVE, GORGEOUS: 0.7\n",
            "        HAVE, BUT: 0.1304345238095238\n",
            "        HAVE, STILL: -0.00890151515151516\n",
            "        HAVE, OUT: 0.11724121466768525\n",
            "        HAVE, HERE: -0.06250000000000003\n",
            "    Word value in this context: 0.17920823571173922\n",
            "    Word weight in this context: 0.40566566300743667\n",
            "    CORONA\n",
            "        CORONA: 0.006660010737694912\n",
            "        CORONA, OUT: 0.0453466434063449\n",
            "        CORONA, IS: -0.034356962481962475\n",
            "        CORONA, HAVE: 0.05474837662337662\n",
            "        CORONA, WE: 0.02972539731957541\n",
            "        CORONA, SO: 0.2802348976780796\n",
            "        CORONA, BUT: 0.1496420027341079\n",
            "        CORONA, WEATHER: 0.7\n",
            "        CORONA, GORGEOUS: 0.7\n",
            "        CORONA, STILL: 0.045\n",
            "        CORONA, HERE: 0.14322609208972847\n",
            "    Word value in this context: 0.1927478598279041\n",
            "    Word weight in this context: 0.27410443023446585\n",
            "    OUT\n",
            "        OUT: 0.03296029757225217\n",
            "        OUT, CORONA: 0.0453466434063449\n",
            "        OUT, IS: 0.10035818713450291\n",
            "        OUT, WEATHER: 0.7\n",
            "        OUT, SO: 0.1462023294166151\n",
            "        OUT, GORGEOUS: 0.7\n",
            "        OUT, BUT: 0.22820105820105818\n",
            "        OUT, WE: 0.06341089466089465\n",
            "        OUT, STILL: -0.037500000000000006\n",
            "        OUT, HAVE: 0.11724121466768525\n",
            "        OUT, HERE: 0.0657777777777778\n",
            "    Word value in this context: 0.19654530934883008\n",
            "    Word weight in this context: 0.5525914891546597\n",
            "    HERE\n",
            "        HERE: 0.0985293263646922\n",
            "        HERE, WEATHER: 0.7\n",
            "        HERE, IS: 0.03293613215488215\n",
            "        HERE, SO: 0.19814814814814816\n",
            "        HERE, GORGEOUS: 0.7\n",
            "        HERE, BUT: 0.3035037878787878\n",
            "        HERE, WE: -0.07856105699855702\n",
            "        HERE, STILL: 0.45625\n",
            "        HERE, HAVE: -0.06250000000000003\n",
            "        HERE, CORONA: 0.14322609208972847\n",
            "        HERE, OUT: 0.0657777777777778\n",
            "    Word value in this context: 0.2324827461286781\n",
            "    Word weight in this context: 0.9687217251717088\n"
          ],
          "name": "stdout"
        },
        {
          "output_type": "display_data",
          "data": {
            "image/png": "[encoded data removed]",
            "text/plain": [
              "<Figure size 1080x360 with 2 Axes>"
            ]
          },
          "metadata": {
            "tags": [],
            "needs_background": "light"
          }
        },
        {
          "output_type": "stream",
          "text": [
            "Overall sentence sentiment:  0.5139805797439144\n"
          ],
          "name": "stdout"
        }
      ]
    },
    {
      "cell_type": "code",
      "metadata": {
        "scrolled": true,
        "id": "uOnY1jMEIh2W",
        "colab_type": "code",
        "colab": {
          "base_uri": "https://localhost:8080/",
          "height": 1000
        },
        "outputId": "5b7b75b3-fd5e-476a-9728-62c149944a70"
      },
      "source": [
        "str6 = \"corona is destroying everything and I’m so sad\"\n",
        "print(str6)\n",
        "analyze6 = model.advancedanalyze(str6, True)\n",
        "print(\"Overall sentence sentiment: \", analyze6)"
      ],
      "execution_count": 10,
      "outputs": [
        {
          "output_type": "stream",
          "text": [
            "corona is destroying everything and I’m so sad\n",
            "    CORONA\n",
            "        CORONA: 0.006660010737694912\n",
            "        CORONA, IS: -0.034356962481962475\n",
            "        CORONA, AND: 0.09922447203697213\n",
            "        CORONA, I: -0.018110622199437976\n",
            "        CORONA, M: -0.16646068984778672\n",
            "        CORONA, SO: 0.2802348976780796\n",
            "        CORONA, EVERYTHING: -0.09634920634920635\n",
            "    Word value in this context: 0.01012027136776473\n",
            "    Word weight in this context: 0.014391917085648161\n",
            "    IS\n",
            "        IS: 0.047481246541864926\n",
            "        IS, CORONA: -0.034356962481962475\n",
            "        IS, AND: 0.10395258096563953\n",
            "        IS, I: 0.1974738928399644\n",
            "        IS, SO: 0.06520079495915529\n",
            "        IS, M: 0.010819327731092437\n",
            "        IS, EVERYTHING: -0.20000000000000004\n",
            "        IS, SAD: -0.4083333333333334\n",
            "    Word value in this context: -0.027220306597197413\n",
            "    Word weight in this context: 0.03888087048836241\n",
            "    DESTROYING\n",
            "        DESTROYING: 0\n",
            "    EVERYTHING\n",
            "        EVERYTHING: -0.1867063492063492\n",
            "        EVERYTHING, I: -0.014550264550264544\n",
            "        EVERYTHING, M: -0.1880952380952381\n",
            "        EVERYTHING, SO: -0.1880952380952381\n",
            "        EVERYTHING, CORONA: -0.09634920634920635\n",
            "        EVERYTHING, IS: -0.20000000000000004\n",
            "        EVERYTHING, AND: -0.5\n",
            "    Word value in this context: -0.19625661375661377\n",
            "    Word weight in this context: 1.1384816338143202\n",
            "    AND\n",
            "        AND: 0.08958373831618814\n",
            "        AND, IS: 0.10395258096563953\n",
            "        AND, CORONA: 0.09922447203697213\n",
            "        AND, I: 0.15669962305515062\n",
            "        AND, SO: 0.13462134740259746\n",
            "        AND, M: -0.04891603105888821\n",
            "        AND, SAD: -0.08368055555555556\n",
            "        AND, EVERYTHING: -0.5\n",
            "    Word value in this context: -0.0060643531047369775\n",
            "    Word weight in this context: 0.007667532521058258\n",
            "    I\n",
            "        I: 0.06113383453605594\n",
            "        I, M: -0.08931864642091925\n",
            "        I, CORONA: -0.018110622199437976\n",
            "        I, IS: 0.1974738928399644\n",
            "        I, AND: 0.15669962305515062\n",
            "        I, SO: 0.1653857243655037\n",
            "        I, EVERYTHING: -0.014550264550264544\n",
            "        I, SAD: 0.04166666666666667\n",
            "    Word value in this context: 0.06254752603658995\n",
            "    Word weight in this context: 0.09903256280523716\n",
            "    M\n",
            "        M: -0.07489254676754681\n",
            "        M, I: -0.08931864642091925\n",
            "        M, CORONA: -0.16646068984778672\n",
            "        M, AND: -0.04891603105888821\n",
            "        M, SO: -0.03759638798701299\n",
            "        M, EVERYTHING: -0.1880952380952381\n",
            "        M, IS: 0.010819327731092437\n",
            "        M, SAD: 0.05555555555555556\n",
            "    Word value in this context: -0.06736308211134301\n",
            "    Word weight in this context: 0.213601337246107\n",
            "    SO\n",
            "        SO: 0.10830228621884569\n",
            "        SO, CORONA: 0.2802348976780796\n",
            "        SO, IS: 0.06520079495915529\n",
            "        SO, AND: 0.13462134740259746\n",
            "        SO, I: 0.1653857243655037\n",
            "        SO, M: -0.03759638798701299\n",
            "        SO, EVERYTHING: -0.1880952380952381\n",
            "        SO, SAD: -0.2041666666666667\n",
            "    Word value in this context: 0.040485844734407986\n",
            "    Word weight in this context: 0.11183941457479489\n",
            "    SAD\n",
            "        SAD: -0.17881944444444448\n",
            "        SAD, I: 0.04166666666666667\n",
            "        SAD, M: 0.05555555555555556\n",
            "        SAD, AND: -0.08368055555555556\n",
            "        SAD, IS: -0.4083333333333334\n",
            "        SAD, SO: -0.2041666666666667\n",
            "    Word value in this context: -0.12962962962962965\n",
            "    Word weight in this context: 0.8418319237445846\n"
          ],
          "name": "stdout"
        },
        {
          "output_type": "display_data",
          "data": {
            "image/png": "[encoded data removed]",
            "text/plain": [
              "<Figure size 1080x360 with 2 Axes>"
            ]
          },
          "metadata": {
            "tags": [],
            "needs_background": "light"
          }
        },
        {
          "output_type": "stream",
          "text": [
            "Overall sentence sentiment:  -0.09729178877451616\n"
          ],
          "name": "stdout"
        }
      ]
    },
    {
      "cell_type": "markdown",
      "metadata": {
        "id": "U9YfHa76zxJ_",
        "colab_type": "text"
      },
      "source": [
        "Here is an example of the \"preddicttags\" function, once with False for the print boolean, and once with True."
      ]
    },
    {
      "cell_type": "code",
      "metadata": {
        "scrolled": true,
        "id": "M-fSXU_qIh2c",
        "colab_type": "code",
        "colab": {
          "base_uri": "https://localhost:8080/",
          "height": 697
        },
        "outputId": "9e402293-8284-4e9b-91a4-80fd0eeefd62"
      },
      "source": [
        "print(\"Tags for: 'Weather is so gorgeous but we still have Corona out here..'\")\n",
        "model.predicttags(\"Weather is so gorgeous but we still have Corona out here..\")\n",
        "print()\n",
        "model.predicttags(\"Weather is so gorgeous but we still have Corona out here..\", True)"
      ],
      "execution_count": 11,
      "outputs": [
        {
          "output_type": "stream",
          "text": [
            "Tags for: 'Weather is so gorgeous but we still have Corona out here..'\n",
            "    Tag: March - 50.29%\n",
            "    Tag: August - 23.36%\n",
            "    Tag: June - 26.35%\n",
            "Most likely tag: March\n",
            "\n",
            "    Tag: March - 1210\n",
            "        WEATHER\n",
            "        IS\n",
            "        SO\n",
            "        GORGEOUS\n",
            "        BUT\n",
            "        WE\n",
            "        STILL\n",
            "        HAVE\n",
            "        CORONA\n",
            "        OUT\n",
            "        HERE\n",
            "    Tag: August - 562\n",
            "        IS\n",
            "        SO\n",
            "        BUT\n",
            "        WE\n",
            "        STILL\n",
            "        HAVE\n",
            "        CORONA\n",
            "        OUT\n",
            "        HERE\n",
            "    Tag: June - 634\n",
            "        IS\n",
            "        SO\n",
            "        BUT\n",
            "        WE\n",
            "        STILL\n",
            "        HAVE\n",
            "        CORONA\n",
            "        OUT\n",
            "        HERE\n",
            "Most likely tag: March\n"
          ],
          "name": "stdout"
        }
      ]
    },
    {
      "cell_type": "markdown",
      "metadata": {
        "id": "Loh___M4qt4V",
        "colab_type": "text"
      },
      "source": [
        "<h2 id=\"Graph\">Data Visualization</h2>"
      ]
    },
    {
      "cell_type": "markdown",
      "metadata": {
        "id": "tW4EhOYSrJ-p",
        "colab_type": "text"
      },
      "source": [
        "Label each score from the inputed senitment as positive, negative, or neutral."
      ]
    },
    {
      "cell_type": "code",
      "metadata": {
        "id": "fuIuMb6rIh2g",
        "colab_type": "code",
        "colab": {
          "base_uri": "https://localhost:8080/",
          "height": 34
        },
        "outputId": "cbfed579-04b6-443b-f70c-4c22b817549e"
      },
      "source": [
        "def scoreLabel(score):\n",
        "  if score < -0.2:\n",
        "    return 'Negative'\n",
        "  elif score > -0.2 and score < 0.2:\n",
        "    return 'Neutral'\n",
        "  else:\n",
        "    return 'Positive'\n",
        "\n",
        "data_sentiment = []\n",
        "data_sentiment.append(scoreLabel(analyze1))\n",
        "data_sentiment.append(scoreLabel(analyze2))\n",
        "data_sentiment.append(scoreLabel(analyze3))\n",
        "data_sentiment.append(scoreLabel(analyze4))\n",
        "data_sentiment.append(scoreLabel(analyze5))\n",
        "data_sentiment.append(scoreLabel(analyze6))\n",
        "\n",
        "data_sentiment"
      ],
      "execution_count": 12,
      "outputs": [
        {
          "output_type": "execute_result",
          "data": {
            "text/plain": [
              "['Negative', 'Negative', 'Positive', 'Neutral', 'Positive', 'Neutral']"
            ]
          },
          "metadata": {
            "tags": []
          },
          "execution_count": 12
        }
      ]
    },
    {
      "cell_type": "markdown",
      "metadata": {
        "id": "GlQaVayYu83X",
        "colab_type": "text"
      },
      "source": [
        "Graphing the sentiment of the current tweet topic by counting the number of distinct outputs."
      ]
    },
    {
      "cell_type": "code",
      "metadata": {
        "id": "DY-ee7bTIh2i",
        "colab_type": "code",
        "colab": {
          "base_uri": "https://localhost:8080/",
          "height": 346
        },
        "outputId": "5480ae74-c913-47a1-84ad-9e77ff6f7da5"
      },
      "source": [
        "numPos = int(data_sentiment.count('Positive'))\n",
        "numNeg = int(data_sentiment.count('Negative'))\n",
        "numNeu = int(data_sentiment.count('Neutral'))\n",
        "\n",
        "count_arr = [numNeg, numNeu, numPos]\n",
        "\n",
        "plt.title('Sentiment of COVID-19')\n",
        "plt.xlabel('Sentiment')\n",
        "plt.ylabel('Counts')\n",
        "\n",
        "y_ticks = np.arange(0, len(data_sentiment), 1)\n",
        "plt.yticks(y_ticks)\n",
        "\n",
        "types = ['Negative', 'Neutral', 'Positive']\n",
        "\n",
        "plt.bar(types, count_arr, color=['red','blue','green'])\n",
        "\n",
        "plt.show()"
      ],
      "execution_count": 13,
      "outputs": [
        {
          "output_type": "display_data",
          "data": {
            "image/png": "[encoded data removed]",
            "text/plain": [
              "<Figure size 1080x360 with 1 Axes>"
            ]
          },
          "metadata": {
            "tags": [],
            "needs_background": "light"
          }
        }
      ]
    }
  ]
}